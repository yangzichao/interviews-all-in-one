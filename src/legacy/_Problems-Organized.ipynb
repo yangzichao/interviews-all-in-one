{
  "cells": [
    {
      "cell_type": "code",
      "execution_count": 2,
      "metadata": {},
      "outputs": [],
      "source": [
        "String PROBLEM_DATA = \"./src/problem300.txt\";\n",
        "\n",
        "public static Set<Integer> getProblems(File file) {\n",
        "    Set<Integer> problems = new HashSet<>();\n",
        "    try {\n",
        "        Scanner scan = new Scanner(file);\n",
        "        while (scan.hasNext()) {\n",
        "            int i = scan.nextInt();\n",
        "            problems.add(i);\n",
        "        }\n",
        "    } catch (Exception ex) {\n",
        "        ex.printStackTrace();\n",
        "    }\n",
        "    return problems;\n",
        "}\n",
        "\n",
        "public void addProblem(int problem){\n",
        "    try {\n",
        "        File currentProblems = new File(PROBLEM_DATA);\n",
        "        Set<Integer> problems = getProblems(currentProblems);\n",
        "        problems.add(problem);\n",
        "        currentProblems.createNewFile();\n",
        "        FileWriter writer = new FileWriter(currentProblems);\n",
        "        for(int i : problems) {\n",
        "            writer.write(String.valueOf(i) + \"\\n\");\n",
        "        }\n",
        "        writer.flush();\n",
        "        writer.close();\n",
        "    }catch (Exception ex) {\n",
        "        ex.printStackTrace();\n",
        "    }\n",
        "}\n",
        "\n",
        "public void addProblems(int[] problem){\n",
        "    try {\n",
        "        File currentProblems = new File(PROBLEM_DATA);\n",
        "        Set<Integer> problems = getProblems(currentProblems);\n",
        "        for(int i : problem) {\n",
        "            problems.add(i);\n",
        "        }\n",
        "        currentProblems.createNewFile();\n",
        "        FileWriter writer = new FileWriter(currentProblems);\n",
        "        for(int i : problems) {\n",
        "            writer.write(String.valueOf(i) + \"\\n\");\n",
        "        }\n",
        "        writer.flush();\n",
        "        writer.close();\n",
        "    }catch (Exception ex) {\n",
        "        ex.printStackTrace();\n",
        "    }\n",
        "}\n",
        "\n",
        "public void removeProblem(int problem){\n",
        "    try {\n",
        "        File currentProblems = new File(PROBLEM_DATA);\n",
        "        Set<Integer> problems = getProblems(currentProblems);\n",
        "        problems.remove(problem);\n",
        "        currentProblems.createNewFile();\n",
        "        FileWriter writer = new FileWriter(currentProblems);\n",
        "        for(int i : problems) {\n",
        "            writer.write(String.valueOf(i) + \"\\n\");\n",
        "        }\n",
        "        writer.flush();\n",
        "        writer.close();\n",
        "    }catch (Exception ex) {\n",
        "        ex.printStackTrace();\n",
        "    }\n",
        "}\n",
        "\n",
        "public void removeProblems(int[] problem){\n",
        "    try {\n",
        "        File currentProblems = new File(PROBLEM_DATA);\n",
        "        Set<Integer> problems = getProblems(currentProblems);\n",
        "        for(int i : problem) {\n",
        "            problems.remove(i);\n",
        "        }\n",
        "        currentProblems.createNewFile();\n",
        "        FileWriter writer = new FileWriter(currentProblems);\n",
        "        for(int i : problems) {\n",
        "            writer.write(String.valueOf(i) + \"\\n\");\n",
        "        }\n",
        "        writer.flush();\n",
        "        writer.close();\n",
        "    }catch (Exception ex) {\n",
        "        ex.printStackTrace();\n",
        "    }\n",
        "}\n",
        "\n",
        "public void printMissing(int start, int end){\n",
        "    if(start > end){\n",
        "        return;\n",
        "    }\n",
        "    start = Math.max(0, start);\n",
        "    int total = end - start + 1;\n",
        "\n",
        "    File currentProblems = new File(PROBLEM_DATA);\n",
        "    Set<Integer> problems = getProblems(currentProblems);\n",
        "    ArrayList<Integer> remain = new ArrayList<>();\n",
        "    for(int i = start; i <= end; i++ ) {\n",
        "        if( problems.contains(i) ) {\n",
        "            continue;\n",
        "        }\n",
        "        remain.add(i);\n",
        "    }\n",
        "    String line1 = \"Total \" + String.valueOf(total) + \" from \" + String.valueOf(start) +\" to \" + String.valueOf(end);\n",
        "    String line2 = \" Left \" + String.valueOf(remain.size());\n",
        "    System.out.println(line1 + line2);\n",
        "    System.out.println(\"Printing Missing Problems\");\n",
        "    int count = 0;\n",
        "    for(int i : remain) {\n",
        "        System.out.print(String.valueOf(i) + \" \");\n",
        "        count++;\n",
        "        if(count > 10) {\n",
        "            count = 0;\n",
        "            System.out.println();\n",
        "        }\n",
        "    }\n",
        "}\n",
        "\n",
        "public boolean isInTheFile(int number) {\n",
        "    File currentProblems = new File(PROBLEM_DATA);\n",
        "    Set<Integer> problems = getProblems(currentProblems);\n",
        "    if(problems.contains(number)){\n",
        "        System.out.println(String.valueOf(number) + \" already IN.\");\n",
        "        return true;\n",
        "    }else{\n",
        "        System.out.println(String.valueOf(number) + \" NOT IN.\");\n",
        "        return false;\n",
        "    }\n",
        "}\n"
      ]
    },
    {
      "cell_type": "code",
      "execution_count": 3,
      "metadata": {},
      "outputs": [],
      "source": [
        "String PROBLEMS_UNION = \"./src/problemsUnion.txt\";\n",
        "\n",
        "// union find helpers \n",
        "public void addNode(Map<Integer, Integer> roots, int node) {\n",
        "    if (roots.containsKey( node )) {\n",
        "        return;\n",
        "    }\n",
        "    roots.put( node,  node);\n",
        "}\n",
        "\n",
        "public int findRoot( Map<Integer, Integer> roots, int node) {\n",
        "    int parentNode = roots.getOrDefault(node, node);\n",
        "    if (node == parentNode) {\n",
        "        return parentNode;\n",
        "    }\n",
        "    int rootNode = findRoot(roots, parentNode);\n",
        "    roots.put(node, rootNode);\n",
        "    return roots.getOrDefault(node, node);\n",
        "}\n",
        "\n",
        "public void unionFind(Map<Integer, Integer> roots, int node1, int node2) {\n",
        "    addNode( roots, node1); \n",
        "    addNode( roots, node2);\n",
        "    int root1 = findRoot(roots, node1);\n",
        "    int root2 = findRoot(roots, node2);\n",
        "    if(root1 < root2) {\n",
        "        roots.put(root2, root1);\n",
        "    }else{\n",
        "        roots.put(root1, root2);\n",
        "    }\n",
        "\n",
        "}\n",
        "\n",
        "// union find from file\n",
        "public static Map<Integer, Integer>  getUnion(File file) {\n",
        "    Map<Integer, Integer> roots = new HashMap<>();\n",
        "    try {\n",
        "        Scanner scan = new Scanner(file);\n",
        "        while (scan.hasNext()) {\n",
        "            int p1 = scan.nextInt();\n",
        "            int p2 = scan.nextInt();\n",
        "            unionFind(roots, p1, p2);\n",
        "        }\n",
        "    } catch (Exception ex) {\n",
        "        ex.printStackTrace();\n",
        "    }\n",
        "    return roots;\n",
        "}\n",
        "\n",
        "// helpers of add and remove\n",
        "public TreeMap<Integer, TreeSet<Integer>> rootsToUnion(Map<Integer, Integer> roots) {\n",
        "    TreeMap<Integer, TreeSet<Integer>> union = new TreeMap<>();\n",
        "\n",
        "    for(int i : roots.keySet()){\n",
        "        int root = roots.get(i);\n",
        "        if( !union.containsKey(root) ) {\n",
        "            union.put(root, new TreeSet<Integer>());\n",
        "            union.get(root).add(root);\n",
        "        }\n",
        "        union.get(root).add(i);\n",
        "    }\n",
        "    return union;\n",
        "}\n",
        "\n",
        "public ArrayList< ArrayList<Integer> > unionToGroup(TreeMap<Integer, TreeSet<Integer>> union) {\n",
        "    ArrayList< ArrayList<Integer> > group = new ArrayList<>();\n",
        "    for(TreeSet<Integer> set : union.values()) {\n",
        "        group.add(new ArrayList<Integer>(set));\n",
        "    }\n",
        "    return group;\n",
        "}\n",
        "\n",
        "public void saveUnion(ArrayList< ArrayList<Integer> > union) {\n",
        "    try {\n",
        "        File curUnion = new File(PROBLEMS_UNION);\n",
        "        curUnion.createNewFile();\n",
        "        FileWriter writer = new FileWriter(curUnion);\n",
        "        for(ArrayList<Integer> list : union) {\n",
        "            int root = list.get(0);\n",
        "            for(int i = 0; i < list.size(); i++ ) {\n",
        "                writer.write(String.valueOf(root) + \" \"+ String.valueOf( list.get(i) ) +\"\\n\");\n",
        "            }\n",
        "        }\n",
        "        writer.flush();\n",
        "        writer.close();\n",
        "    }catch (Exception ex) {\n",
        "        ex.printStackTrace();\n",
        "    }\n",
        "}\n",
        "\n",
        "// add\n",
        "public void addToUnion(int[] numbers) {\n",
        "    addProblems(numbers);\n",
        "    Set<Integer> tempSet = new TreeSet<>();\n",
        "    for(int i : numbers){\n",
        "        tempSet.add(i);\n",
        "    }\n",
        "    \n",
        "    ArrayList<Integer> tempList = new ArrayList<>(tempSet);\n",
        "    File problemsUnionFile = new File(PROBLEMS_UNION);\n",
        "    Map<Integer, Integer> roots = getUnion(problemsUnionFile);\n",
        "    for(int i : tempList) {\n",
        "        unionFind(roots, tempList.get(0), i);\n",
        "    }\n",
        "\n",
        "    TreeMap<Integer, TreeSet<Integer>> union =  rootsToUnion(roots);\n",
        "    ArrayList< ArrayList<Integer> > group = unionToGroup(union);\n",
        "    saveUnion(group);\n",
        "    System.out.println(\"添加成功！\");\n",
        "}\n",
        "\n",
        "public void addUnionPair(int a, int b) {\n",
        "    addToUnion(new int[]{a,b});\n",
        "}\n",
        "\n",
        "// remove\n",
        "public void removeFromUnion(int[] numbers) {\n",
        "    removeProblems(numbers);\n",
        "    Set<Integer> tempSet = new TreeSet<>();\n",
        "    for(int i : numbers){\n",
        "        tempSet.add(i);\n",
        "    }\n",
        "\n",
        "    File problemsUnionFile = new File(PROBLEMS_UNION);\n",
        "    Map<Integer, Integer> roots = getUnion(problemsUnionFile);\n",
        "    \n",
        "    for(int i : tempSet) {\n",
        "        if( !roots.containsKey(i)){\n",
        "            continue;\n",
        "        }\n",
        "        if( roots.get(i) == i ) { // i is a root;\n",
        "            Set<Integer> leftElements = new HashSet<>();\n",
        "            int randomJ = 0;\n",
        "            for(int j : roots.keySet() ) {\n",
        "                if( j == i ) continue;\n",
        "                randomJ = j;\n",
        "                if( roots.get(j) == i ) {\n",
        "                    leftElements.add(j);\n",
        "                }\n",
        "            }\n",
        "            for(int j : leftElements) {\n",
        "                roots.remove(j);\n",
        "            }\n",
        "            for(int j : leftElements){\n",
        "                unionFind(roots, j, randomJ);\n",
        "            }\n",
        "        }\n",
        "        roots.remove(i);\n",
        "    }\n",
        "\n",
        "    TreeMap<Integer, TreeSet<Integer>> union =  rootsToUnion(roots);\n",
        "    ArrayList< ArrayList<Integer> > group = unionToGroup(union);\n",
        "    saveUnion(group);\n",
        "}\n",
        "\n",
        "public void printUnion(){\n",
        "    File problemsUnionFile = new File(PROBLEMS_UNION);\n",
        "    Map<Integer, Integer> roots = getUnion(problemsUnionFile);\n",
        "    TreeMap<Integer, TreeSet<Integer>> union =  rootsToUnion(roots);\n",
        "    ArrayList< ArrayList<Integer> > group = unionToGroup(union);\n",
        "    int numberOfGroups = group.size();\n",
        "    int numberOfProblems = 0;\n",
        "    \n",
        "    System.out.println(\"Printing Problem Unions: \");\n",
        "    int count = 1;\n",
        "    for(ArrayList<Integer> list : group ){\n",
        "        System.out.println(\"Group \" + String.valueOf(count++));\n",
        "        numberOfProblems += list.size();\n",
        "        StringBuilder curGroup = new StringBuilder();\n",
        "        curGroup.append(\"      \");\n",
        "        for(int i : list) {\n",
        "            curGroup.append(String.valueOf(i) + \" \");\n",
        "        }\n",
        "        System.out.println(curGroup.toString());\n",
        "    }\n",
        "    System.out.println(\"Total Groups: \" + String.valueOf(numberOfGroups));\n",
        "    System.out.println(\"Total Problems: \" + String.valueOf(numberOfProblems));\n",
        "}\n",
        "\n",
        "public void findUnion(int number){\n",
        "    File problemsUnionFile = new File(PROBLEMS_UNION);\n",
        "    Map<Integer, Integer> roots = getUnion(problemsUnionFile);\n",
        "    if(!roots.containsKey(number)){\n",
        "        return;\n",
        "    }\n",
        "    TreeMap<Integer, TreeSet<Integer>> union =  rootsToUnion(roots);\n",
        "    TreeSet<Integer> set = union.get( roots.get(number) );\n",
        "    \n",
        "    System.out.println(\"Printing the set that problem \"+String.valueOf(number) + \" in: \");\n",
        "    StringBuilder curSet = new StringBuilder();\n",
        "    for(int i : set) {\n",
        "        curSet.append(String.valueOf(i) + \" \");\n",
        "    }\n",
        "    System.out.println(curSet.toString());\n",
        "    System.out.println(\"Total \"+ String.valueOf(set.size())+\" problems in this set.\");\n",
        "}"
      ]
    },
    {
      "cell_type": "code",
      "execution_count": 4,
      "metadata": {},
      "outputs": [
        {
          "name": "stderr",
          "output_type": "stream",
          "text": [
            "java.io.FileNotFoundException: ./src/problem300.txt (No such file or directory)\n",
            "\tat java.base/java.io.FileInputStream.open0(Native Method)\n",
            "\tat java.base/java.io.FileInputStream.open(FileInputStream.java:216)\n",
            "\tat java.base/java.io.FileInputStream.<init>(FileInputStream.java:157)\n",
            "\tat java.base/java.util.Scanner.<init>(Scanner.java:639)\n",
            "\tat REPL.$JShell$32.getProblems($JShell$32.java:20)\n",
            "\tat REPL.$JShell$34.addProblems($JShell$34.java:20)\n",
            "\tat REPL.$JShell$47.addToUnion($JShell$47.java:19)\n",
            "\tat REPL.$JShell$52.do_it$($JShell$52.java:16)\n",
            "\tat java.base/jdk.internal.reflect.NativeMethodAccessorImpl.invoke0(Native Method)\n",
            "\tat java.base/jdk.internal.reflect.NativeMethodAccessorImpl.invoke(NativeMethodAccessorImpl.java:77)\n",
            "\tat java.base/jdk.internal.reflect.DelegatingMethodAccessorImpl.invoke(DelegatingMethodAccessorImpl.java:43)\n",
            "\tat java.base/java.lang.reflect.Method.invoke(Method.java:568)\n",
            "\tat io.github.spencerpark.ijava.execution.IJavaExecutionControl.lambda$execute$1(IJavaExecutionControl.java:95)\n",
            "\tat java.base/java.util.concurrent.FutureTask.run(FutureTask.java:264)\n",
            "\tat java.base/java.util.concurrent.ThreadPoolExecutor.runWorker(ThreadPoolExecutor.java:1136)\n",
            "\tat java.base/java.util.concurrent.ThreadPoolExecutor$Worker.run(ThreadPoolExecutor.java:635)\n",
            "\tat java.base/java.lang.Thread.run(Thread.java:833)\n",
            "java.io.IOException: No such file or directory\n",
            "\tat java.base/java.io.UnixFileSystem.createFileExclusively(Native Method)\n",
            "\tat java.base/java.io.File.createNewFile(File.java:1043)\n",
            "\tat REPL.$JShell$34.addProblems($JShell$34.java:24)\n",
            "\tat REPL.$JShell$47.addToUnion($JShell$47.java:19)\n",
            "\tat REPL.$JShell$52.do_it$($JShell$52.java:16)\n",
            "\tat java.base/jdk.internal.reflect.NativeMethodAccessorImpl.invoke0(Native Method)\n",
            "\tat java.base/jdk.internal.reflect.NativeMethodAccessorImpl.invoke(NativeMethodAccessorImpl.java:77)\n",
            "\tat java.base/jdk.internal.reflect.DelegatingMethodAccessorImpl.invoke(DelegatingMethodAccessorImpl.java:43)\n",
            "\tat java.base/java.lang.reflect.Method.invoke(Method.java:568)\n",
            "\tat io.github.spencerpark.ijava.execution.IJavaExecutionControl.lambda$execute$1(IJavaExecutionControl.java:95)\n",
            "\tat java.base/java.util.concurrent.FutureTask.run(FutureTask.java:264)\n",
            "\tat java.base/java.util.concurrent.ThreadPoolExecutor.runWorker(ThreadPoolExecutor.java:1136)\n",
            "\tat java.base/java.util.concurrent.ThreadPoolExecutor$Worker.run(ThreadPoolExecutor.java:635)\n",
            "\tat java.base/java.lang.Thread.run(Thread.java:833)\n",
            "java.io.FileNotFoundException: ./src/problemsUnion.txt (No such file or directory)\n",
            "\tat java.base/java.io.FileInputStream.open0(Native Method)\n",
            "\tat java.base/java.io.FileInputStream.open(FileInputStream.java:216)\n",
            "\tat java.base/java.io.FileInputStream.<init>(FileInputStream.java:157)\n",
            "\tat java.base/java.util.Scanner.<init>(Scanner.java:639)\n",
            "\tat REPL.$JShell$43.getUnion($JShell$43.java:21)\n",
            "\tat REPL.$JShell$47.addToUnion($JShell$47.java:27)\n",
            "\tat REPL.$JShell$52.do_it$($JShell$52.java:16)\n",
            "\tat java.base/jdk.internal.reflect.NativeMethodAccessorImpl.invoke0(Native Method)\n",
            "\tat java.base/jdk.internal.reflect.NativeMethodAccessorImpl.invoke(NativeMethodAccessorImpl.java:77)\n",
            "\tat java.base/jdk.internal.reflect.DelegatingMethodAccessorImpl.invoke(DelegatingMethodAccessorImpl.java:43)\n",
            "\tat java.base/java.lang.reflect.Method.invoke(Method.java:568)\n",
            "\tat io.github.spencerpark.ijava.execution.IJavaExecutionControl.lambda$execute$1(IJavaExecutionControl.java:95)\n",
            "\tat java.base/java.util.concurrent.FutureTask.run(FutureTask.java:264)\n",
            "\tat java.base/java.util.concurrent.ThreadPoolExecutor.runWorker(ThreadPoolExecutor.java:1136)\n",
            "\tat java.base/java.util.concurrent.ThreadPoolExecutor$Worker.run(ThreadPoolExecutor.java:635)\n",
            "\tat java.base/java.lang.Thread.run(Thread.java:833)\n",
            "java.io.IOException: No such file or directory\n",
            "\tat java.base/java.io.UnixFileSystem.createFileExclusively(Native Method)\n",
            "\tat java.base/java.io.File.createNewFile(File.java:1043)\n",
            "\tat REPL.$JShell$46.saveUnion($JShell$46.java:20)\n",
            "\tat REPL.$JShell$47.addToUnion($JShell$47.java:34)\n",
            "\tat REPL.$JShell$52.do_it$($JShell$52.java:16)\n",
            "\tat java.base/jdk.internal.reflect.NativeMethodAccessorImpl.invoke0(Native Method)\n",
            "\tat java.base/jdk.internal.reflect.NativeMethodAccessorImpl.invoke(NativeMethodAccessorImpl.java:77)\n",
            "\tat java.base/jdk.internal.reflect.DelegatingMethodAccessorImpl.invoke(DelegatingMethodAccessorImpl.java:43)\n",
            "\tat java.base/java.lang.reflect.Method.invoke(Method.java:568)\n",
            "\tat io.github.spencerpark.ijava.execution.IJavaExecutionControl.lambda$execute$1(IJavaExecutionControl.java:95)\n",
            "\tat java.base/java.util.concurrent.FutureTask.run(FutureTask.java:264)\n",
            "\tat java.base/java.util.concurrent.ThreadPoolExecutor.runWorker(ThreadPoolExecutor.java:1136)\n",
            "\tat java.base/java.util.concurrent.ThreadPoolExecutor$Worker.run(ThreadPoolExecutor.java:635)\n",
            "\tat java.base/java.lang.Thread.run(Thread.java:833)\n"
          ]
        },
        {
          "name": "stdout",
          "output_type": "stream",
          "text": [
            "添加成功！\n"
          ]
        },
        {
          "name": "stderr",
          "output_type": "stream",
          "text": [
            "java.io.FileNotFoundException: ./src/problem300.txt (No such file or directory)\n",
            "\tat java.base/java.io.FileInputStream.open0(Native Method)\n",
            "\tat java.base/java.io.FileInputStream.open(FileInputStream.java:216)\n",
            "\tat java.base/java.io.FileInputStream.<init>(FileInputStream.java:157)\n",
            "\tat java.base/java.util.Scanner.<init>(Scanner.java:639)\n",
            "\tat REPL.$JShell$32.getProblems($JShell$32.java:20)\n",
            "\tat REPL.$JShell$36.removeProblems($JShell$36.java:20)\n",
            "\tat REPL.$JShell$49.removeFromUnion($JShell$49.java:19)\n",
            "\tat REPL.$JShell$53.do_it$($JShell$53.java:16)\n",
            "\tat java.base/jdk.internal.reflect.NativeMethodAccessorImpl.invoke0(Native Method)\n",
            "\tat java.base/jdk.internal.reflect.NativeMethodAccessorImpl.invoke(NativeMethodAccessorImpl.java:77)\n",
            "\tat java.base/jdk.internal.reflect.DelegatingMethodAccessorImpl.invoke(DelegatingMethodAccessorImpl.java:43)\n",
            "\tat java.base/java.lang.reflect.Method.invoke(Method.java:568)\n",
            "\tat io.github.spencerpark.ijava.execution.IJavaExecutionControl.lambda$execute$1(IJavaExecutionControl.java:95)\n",
            "\tat java.base/java.util.concurrent.FutureTask.run(FutureTask.java:264)\n",
            "\tat java.base/java.util.concurrent.ThreadPoolExecutor.runWorker(ThreadPoolExecutor.java:1136)\n",
            "\tat java.base/java.util.concurrent.ThreadPoolExecutor$Worker.run(ThreadPoolExecutor.java:635)\n",
            "\tat java.base/java.lang.Thread.run(Thread.java:833)\n",
            "java.io.IOException: No such file or directory\n",
            "\tat java.base/java.io.UnixFileSystem.createFileExclusively(Native Method)\n",
            "\tat java.base/java.io.File.createNewFile(File.java:1043)\n",
            "\tat REPL.$JShell$36.removeProblems($JShell$36.java:24)\n",
            "\tat REPL.$JShell$49.removeFromUnion($JShell$49.java:19)\n",
            "\tat REPL.$JShell$53.do_it$($JShell$53.java:16)\n",
            "\tat java.base/jdk.internal.reflect.NativeMethodAccessorImpl.invoke0(Native Method)\n",
            "\tat java.base/jdk.internal.reflect.NativeMethodAccessorImpl.invoke(NativeMethodAccessorImpl.java:77)\n",
            "\tat java.base/jdk.internal.reflect.DelegatingMethodAccessorImpl.invoke(DelegatingMethodAccessorImpl.java:43)\n",
            "\tat java.base/java.lang.reflect.Method.invoke(Method.java:568)\n",
            "\tat io.github.spencerpark.ijava.execution.IJavaExecutionControl.lambda$execute$1(IJavaExecutionControl.java:95)\n",
            "\tat java.base/java.util.concurrent.FutureTask.run(FutureTask.java:264)\n",
            "\tat java.base/java.util.concurrent.ThreadPoolExecutor.runWorker(ThreadPoolExecutor.java:1136)\n",
            "\tat java.base/java.util.concurrent.ThreadPoolExecutor$Worker.run(ThreadPoolExecutor.java:635)\n",
            "\tat java.base/java.lang.Thread.run(Thread.java:833)\n",
            "java.io.FileNotFoundException: ./src/problemsUnion.txt (No such file or directory)\n",
            "\tat java.base/java.io.FileInputStream.open0(Native Method)\n",
            "\tat java.base/java.io.FileInputStream.open(FileInputStream.java:216)\n",
            "\tat java.base/java.io.FileInputStream.<init>(FileInputStream.java:157)\n",
            "\tat java.base/java.util.Scanner.<init>(Scanner.java:639)\n",
            "\tat REPL.$JShell$43.getUnion($JShell$43.java:21)\n",
            "\tat REPL.$JShell$49.removeFromUnion($JShell$49.java:26)\n",
            "\tat REPL.$JShell$53.do_it$($JShell$53.java:16)\n",
            "\tat java.base/jdk.internal.reflect.NativeMethodAccessorImpl.invoke0(Native Method)\n",
            "\tat java.base/jdk.internal.reflect.NativeMethodAccessorImpl.invoke(NativeMethodAccessorImpl.java:77)\n",
            "\tat java.base/jdk.internal.reflect.DelegatingMethodAccessorImpl.invoke(DelegatingMethodAccessorImpl.java:43)\n",
            "\tat java.base/java.lang.reflect.Method.invoke(Method.java:568)\n",
            "\tat io.github.spencerpark.ijava.execution.IJavaExecutionControl.lambda$execute$1(IJavaExecutionControl.java:95)\n",
            "\tat java.base/java.util.concurrent.FutureTask.run(FutureTask.java:264)\n",
            "\tat java.base/java.util.concurrent.ThreadPoolExecutor.runWorker(ThreadPoolExecutor.java:1136)\n",
            "\tat java.base/java.util.concurrent.ThreadPoolExecutor$Worker.run(ThreadPoolExecutor.java:635)\n",
            "\tat java.base/java.lang.Thread.run(Thread.java:833)\n",
            "java.io.IOException: No such file or directory\n",
            "\tat java.base/java.io.UnixFileSystem.createFileExclusively(Native Method)\n",
            "\tat java.base/java.io.File.createNewFile(File.java:1043)\n",
            "\tat REPL.$JShell$46.saveUnion($JShell$46.java:20)\n",
            "\tat REPL.$JShell$49.removeFromUnion($JShell$49.java:54)\n",
            "\tat REPL.$JShell$53.do_it$($JShell$53.java:16)\n",
            "\tat java.base/jdk.internal.reflect.NativeMethodAccessorImpl.invoke0(Native Method)\n",
            "\tat java.base/jdk.internal.reflect.NativeMethodAccessorImpl.invoke(NativeMethodAccessorImpl.java:77)\n",
            "\tat java.base/jdk.internal.reflect.DelegatingMethodAccessorImpl.invoke(DelegatingMethodAccessorImpl.java:43)\n",
            "\tat java.base/java.lang.reflect.Method.invoke(Method.java:568)\n",
            "\tat io.github.spencerpark.ijava.execution.IJavaExecutionControl.lambda$execute$1(IJavaExecutionControl.java:95)\n",
            "\tat java.base/java.util.concurrent.FutureTask.run(FutureTask.java:264)\n",
            "\tat java.base/java.util.concurrent.ThreadPoolExecutor.runWorker(ThreadPoolExecutor.java:1136)\n",
            "\tat java.base/java.util.concurrent.ThreadPoolExecutor$Worker.run(ThreadPoolExecutor.java:635)\n",
            "\tat java.base/java.lang.Thread.run(Thread.java:833)\n",
            "java.io.FileNotFoundException: ./src/problemsUnion.txt (No such file or directory)\n",
            "\tat java.base/java.io.FileInputStream.open0(Native Method)\n",
            "\tat java.base/java.io.FileInputStream.open(FileInputStream.java:216)\n",
            "\tat java.base/java.io.FileInputStream.<init>(FileInputStream.java:157)\n",
            "\tat java.base/java.util.Scanner.<init>(Scanner.java:639)\n",
            "\tat REPL.$JShell$43.getUnion($JShell$43.java:21)\n",
            "\tat REPL.$JShell$50.printUnion($JShell$50.java:19)\n",
            "\tat REPL.$JShell$54.do_it$($JShell$54.java:16)\n",
            "\tat java.base/jdk.internal.reflect.NativeMethodAccessorImpl.invoke0(Native Method)\n",
            "\tat java.base/jdk.internal.reflect.NativeMethodAccessorImpl.invoke(NativeMethodAccessorImpl.java:77)\n",
            "\tat java.base/jdk.internal.reflect.DelegatingMethodAccessorImpl.invoke(DelegatingMethodAccessorImpl.java:43)\n",
            "\tat java.base/java.lang.reflect.Method.invoke(Method.java:568)\n",
            "\tat io.github.spencerpark.ijava.execution.IJavaExecutionControl.lambda$execute$1(IJavaExecutionControl.java:95)\n",
            "\tat java.base/java.util.concurrent.FutureTask.run(FutureTask.java:264)\n",
            "\tat java.base/java.util.concurrent.ThreadPoolExecutor.runWorker(ThreadPoolExecutor.java:1136)\n",
            "\tat java.base/java.util.concurrent.ThreadPoolExecutor$Worker.run(ThreadPoolExecutor.java:635)\n",
            "\tat java.base/java.lang.Thread.run(Thread.java:833)\n"
          ]
        },
        {
          "name": "stdout",
          "output_type": "stream",
          "text": [
            "Printing Problem Unions: \n",
            "Total Groups: 0\n",
            "Total Problems: 0\n"
          ]
        },
        {
          "name": "stderr",
          "output_type": "stream",
          "text": [
            "java.io.FileNotFoundException: ./src/problemsUnion.txt (No such file or directory)\n",
            "\tat java.base/java.io.FileInputStream.open0(Native Method)\n",
            "\tat java.base/java.io.FileInputStream.open(FileInputStream.java:216)\n",
            "\tat java.base/java.io.FileInputStream.<init>(FileInputStream.java:157)\n",
            "\tat java.base/java.util.Scanner.<init>(Scanner.java:639)\n",
            "\tat REPL.$JShell$43.getUnion($JShell$43.java:21)\n",
            "\tat REPL.$JShell$51.findUnion($JShell$51.java:19)\n",
            "\tat REPL.$JShell$55.do_it$($JShell$55.java:16)\n",
            "\tat java.base/jdk.internal.reflect.NativeMethodAccessorImpl.invoke0(Native Method)\n",
            "\tat java.base/jdk.internal.reflect.NativeMethodAccessorImpl.invoke(NativeMethodAccessorImpl.java:77)\n",
            "\tat java.base/jdk.internal.reflect.DelegatingMethodAccessorImpl.invoke(DelegatingMethodAccessorImpl.java:43)\n",
            "\tat java.base/java.lang.reflect.Method.invoke(Method.java:568)\n",
            "\tat io.github.spencerpark.ijava.execution.IJavaExecutionControl.lambda$execute$1(IJavaExecutionControl.java:95)\n",
            "\tat java.base/java.util.concurrent.FutureTask.run(FutureTask.java:264)\n",
            "\tat java.base/java.util.concurrent.ThreadPoolExecutor.runWorker(ThreadPoolExecutor.java:1136)\n",
            "\tat java.base/java.util.concurrent.ThreadPoolExecutor$Worker.run(ThreadPoolExecutor.java:635)\n",
            "\tat java.base/java.lang.Thread.run(Thread.java:833)\n"
          ]
        }
      ],
      "source": [
        "//用例\n",
        "addToUnion(new int[]{});\n",
        "removeFromUnion(new int[]{});\n",
        "printUnion();\n",
        "findUnion(1);"
      ]
    },
    {
      "cell_type": "code",
      "execution_count": 5,
      "metadata": {
        "scrolled": true
      },
      "outputs": [
        {
          "name": "stderr",
          "output_type": "stream",
          "text": [
            "java.io.FileNotFoundException: ./src/problem300.txt (No such file or directory)\n",
            "\tat java.base/java.io.FileInputStream.open0(Native Method)\n",
            "\tat java.base/java.io.FileInputStream.open(FileInputStream.java:216)\n",
            "\tat java.base/java.io.FileInputStream.<init>(FileInputStream.java:157)\n",
            "\tat java.base/java.util.Scanner.<init>(Scanner.java:639)\n",
            "\tat REPL.$JShell$32.getProblems($JShell$32.java:20)\n",
            "\tat REPL.$JShell$37.printMissing($JShell$37.java:25)\n",
            "\tat REPL.$JShell$56.do_it$($JShell$56.java:16)\n",
            "\tat java.base/jdk.internal.reflect.NativeMethodAccessorImpl.invoke0(Native Method)\n",
            "\tat java.base/jdk.internal.reflect.NativeMethodAccessorImpl.invoke(NativeMethodAccessorImpl.java:77)\n",
            "\tat java.base/jdk.internal.reflect.DelegatingMethodAccessorImpl.invoke(DelegatingMethodAccessorImpl.java:43)\n",
            "\tat java.base/java.lang.reflect.Method.invoke(Method.java:568)\n",
            "\tat io.github.spencerpark.ijava.execution.IJavaExecutionControl.lambda$execute$1(IJavaExecutionControl.java:95)\n",
            "\tat java.base/java.util.concurrent.FutureTask.run(FutureTask.java:264)\n",
            "\tat java.base/java.util.concurrent.ThreadPoolExecutor.runWorker(ThreadPoolExecutor.java:1136)\n",
            "\tat java.base/java.util.concurrent.ThreadPoolExecutor$Worker.run(ThreadPoolExecutor.java:635)\n",
            "\tat java.base/java.lang.Thread.run(Thread.java:833)\n"
          ]
        },
        {
          "name": "stdout",
          "output_type": "stream",
          "text": [
            "Total 200 from 1 to 200 Left 200\n",
            "Printing Missing Problems\n",
            "1 2 3 4 5 6 7 8 9 10 11 \n",
            "12 13 14 15 16 17 18 19 20 21 22 \n",
            "23 24 25 26 27 28 29 30 31 32 33 \n",
            "34 35 36 37 38 39 40 41 42 43 44 \n",
            "45 46 47 48 49 50 51 52 53 54 55 \n",
            "56 57 58 59 60 61 62 63 64 65 66 \n",
            "67 68 69 70 71 72 73 74 75 76 77 \n",
            "78 79 80 81 82 83 84 85 86 87 88 \n",
            "89 90 91 92 93 94 95 96 97 98 99 \n",
            "100 101 102 103 104 105 106 107 108 109 110 \n",
            "111 112 113 114 115 116 117 118 119 120 121 \n",
            "122 123 124 125 126 127 128 129 130 131 132 \n",
            "133 134 135 136 137 138 139 140 141 142 143 \n",
            "144 145 146 147 148 149 150 151 152 153 154 \n",
            "155 156 157 158 159 160 161 162 163 164 165 \n",
            "166 167 168 169 170 171 172 173 174 175 176 \n",
            "177 178 179 180 181 182 183 184 185 186 187 \n",
            "188 189 190 191 192 193 194 195 196 197 198 \n",
            "199 200 "
          ]
        }
      ],
      "source": [
        "// From 1 - 200\n",
        "printMissing(1, 200);"
      ]
    },
    {
      "cell_type": "markdown",
      "metadata": {},
      "source": [
        "# 有哪些知识点？\n",
        "\n",
        "## 基础的数据结构题目\n",
        "\n",
        "### HashSet and HashMap\n",
        "\n",
        "### Stack, Queue, and Something Else\n",
        "\n",
        "### LinkedList and BinaryTree and Tree\n",
        "\n",
        "## 基础的算法题目\n",
        "\n",
        "### 排序\n",
        "\n",
        "### 回溯\n",
        "\n",
        "## 基础的其他题目\n",
        "\n",
        "### 位运算\n",
        "\n",
        "## 进阶的算法题目"
      ]
    },
    {
      "cell_type": "markdown",
      "metadata": {
        "tags": []
      },
      "source": [
        "## 1 - Two-sum 家族 \n",
        "\n",
        "Two-sum 如果考的话，最喜欢考的是 3sum 和 K-sum, 其他的考那就是白送分。\n",
        "\n",
        "只需要重复 \n",
        "015 和 560 就行了。         \n",
        "\n",
        "典型题目：    \n",
        "001，167,  015， 560.            \n",
        "其中 167 是 015 的子问题，560是001的变种。     \n",
        "Two-Sum 有两个阶段的问题，一个是需要解决无序数组 O(N)，此时必须要 O(N) 的 space.\n",
        "\n",
        "* [001: Two-Sum](https://leetcode.com/problems/two-sum/)   \n",
        "    Two Sum 最优解法不能Sort, HashMap 一遍过       \n",
        "* [167: Two-Sum-II---Input-array-is-sorted](https://leetcode.com/problems/two-sum-ii-input-array-is-sorted/)    \n",
        "* [015: 3Sum](https://leetcode.com/problems/3sum/)   \n",
        "    3 Sum 和 4 Sum 最优要Sort，为了避免重复的组合，连续重复的数字要取第一个，后面重复的是可以出现在组合中的。\n",
        "* [560: Subarray-Sum-Equals-K](https://leetcode.com/problems/subarray-sum-equals-k/)      \n",
        "* [523: Continuous-Subarray-Sum](https://leetcode.com/problems/continuous-subarray-sum/)\n",
        "\n",
        "* [018: 4Sum](https://leetcode.com/problems/4sum/) \n",
        "4 Sum 是不一样的！因为 4 Sum 的解，解决了 k sum 的问题！\n",
        "https://blog.csdn.net/bhwolf1987/article/details/14104589 \n",
        " \n",
        "**一个问题是 如何解释 K-sum**    \n",
        "Suppose we already know 2 sum. If k == 2, we just return the 2 sum.  \n",
        "Now we firstly consider 3 sum. Consider the index i, denote the subarray starts from i + 1 as A_sub.   \n",
        "The problems of 3 sum has transformed in to nums[i] + 2 sum solution set of A_sub with target of - nums[i].   \n",
        "And we generate this idea to K-sum.  \n",
        "K sum -> nums[i] + solution set of K - 1 sum with target of -nums[i].     \n",
        "\n",
        "以下是一些没啥新意的：   \n",
        "[259: 3Sum-Smaller](https://leetcode.com/problems/3sum-smaller/)   \n",
        "[016: 3Sum-Closest](https://leetcode.com/problems/3sum-closest/)  \n",
        "           \n",
        "[653: Two-Sum-IV---Input-is-a-BST](https://leetcode.com/problems/two-sum-iv-input-is-a-bst/)     \n",
        "[170: Two-Sum-III---Data-structure-design](https://leetcode.com/problems/two-sum-iii-data-structure-design/)   "
      ]
    },
    {
      "cell_type": "markdown",
      "metadata": {},
      "source": [
        "## 2 - 处理运算进位的\n",
        "08/08/2020     \n",
        "445 和 415 是更典型的。 067 是 415 的 子集。   \n",
        "445 用到 stack 还是很机智的。 可以做做。\n",
        "* [002: Add-Two-Numbers](https://leetcode.com/problems/add-two-numbers/)      \n",
        "* [067: Add-Binary](https://leetcode.com/problems/add-binary/)\n",
        "* [415: Add-Strings](https://leetcode.com/problems/add-strings/)\n",
        "* [445: Add-Two-Numbers-II](https://leetcode.com/problems/add-two-numbers-ii/)\n",
        "\n",
        "989 有点不一样，还没做，可以看看。                   \n",
        "[989: Add-to-Array-Form-of-Integer](https://leetcode.com/problems/add-to-array-form-of-integer/)"
      ]
    },
    {
      "cell_type": "code",
      "execution_count": null,
      "metadata": {},
      "outputs": [],
      "source": []
    },
    {
      "cell_type": "markdown",
      "metadata": {},
      "source": [
        "## 3 - Sliding Window   \n",
        "08/08/2020   \n",
        "// 以下是一组，越来越难，其中003由于最简单，所以可以把HashMap 简化为HashSet，而 159 没有做的意义。    \n",
        "但是注意 003 的优化可以用 HashMap 直接记录每个字符出现的最后一次的位置。     \n",
        "340 当然也可以这么做，但是就需要一个数组或者两个HashMap了。     \n",
        "[003: Longest-Substring-Without-Repeating-Characters](https://leetcode.com/problems/longest-substring-without-repeating-characters/)    \n",
        "[159: Longest-Substring-with-At-Most-Two-Distinct-Characters](https://leetcode.com/problems/longest-substring-with-at-most-two-distinct-characters/)       \n",
        "[340: Longest-Substring-with-At-Most-K-Distinct-Characters](https://leetcode.com/problems/longest-substring-with-at-most-k-distinct-characters/)    \n",
        "注意这一个题写 sliding window 的模板。\n",
        "定义左指针，右指针直接循环就完事儿了，     \n",
        "\n",
        "甭管行不行先加上，然后再倒退。   \n",
        "\n",
        "以 340 为例： \n",
        "注意的是，这里可以进一步优化。\n",
        "```java\n",
        "class Solution {\n",
        "    public int lengthOfLongestSubstringKDistinct(String s, int k) {\n",
        "        int size = 0;\n",
        "        int max = 0;\n",
        "        Map<Character, Integer> counts = new HashMap<>();\n",
        "        \n",
        "        char[] chars = s.toCharArray();\n",
        "        int left = 0;\n",
        "        \n",
        "        for(int right = 0; right < s.length(); right++ ) {\n",
        "            char c = chars[right];\n",
        "            counts.put(c, counts.getOrDefault(c, 0) + 1);\n",
        "            size += 1;\n",
        "            while(counts.size() > k) {\n",
        "                size -= 1;\n",
        "                char last = chars[left++];\n",
        "                counts.put(last, counts.get(last) - 1);\n",
        "                if(counts.get(last) == 0) {\n",
        "                    counts.remove(last);\n",
        "                } \n",
        "            }\n",
        "            max = Math.max(max, size);\n",
        "        }\n",
        "        return max;\n",
        "    }\n",
        "}\n",
        "```"
      ]
    },
    {
      "cell_type": "markdown",
      "metadata": {},
      "source": [
        "## 4 - Median-of-Two-Sorted-Arrays\n",
        "目前只发现它自己, 真的挺难，值得背下来。           \n",
        "利用了数组总长度的信息和有序的信息。\n",
        "\n",
        "```\n",
        " 1 3 | 4  5   \n",
        "   l1  r1     \n",
        " 1 2 | 5  7  8     \n",
        "   l2  r2     \n",
        "```\n",
        "* [004: Median-of-Two-Sorted-Arrays](https://leetcode.com/problems/median-of-two-sorted-arrays/)      \n",
        "笔记: [004. Median-of-Two-Sorted-Arrays](leetCode-004-Median-of-Two-Sorted-Arrays.md)"
      ]
    },
    {
      "cell_type": "markdown",
      "metadata": {},
      "source": [
        "## 5 - Longest-Palindromic-Substring\n",
        "写了，超级高频。写出从每个位置开始扩张的最长substring的长度，记住 i， i 和 i, i+ 1两种。然后记录最大的长度的中心位置和长度，\n",
        "这样能倒推出应当substring的起始点。\n",
        "* [005: Longest-Palindromic-Substring](https://leetcode.com/problems/longest-palindromic-substring/)\n",
        "* [647: Palindromic-Substrings](https://leetcode.com/problems/palindromic-substrings/)"
      ]
    },
    {
      "cell_type": "markdown",
      "metadata": {},
      "source": [
        "## 6 ZigZag-Conversion \n",
        "没做\n",
        "[006: ZigZag-Conversion](https://leetcode.com/problems/zigzag-conversion/)"
      ]
    },
    {
      "cell_type": "markdown",
      "metadata": {},
      "source": [
        "## 7 - Reverse-Integer \n",
        "虽然不难，值得一做。 007 要注意处理 越界的事儿。190要注意位运算有几个骚操作。\n",
        "* [007: Reverse-Integer](https://leetcode.com/problems/reverse-integer/)\n",
        "* [009: Palindrome-Number](https://leetcode.com/problems/palindrome-number/)      \n",
        "    009 用 palindrome string 就没啥难度秒杀。 所以归类为 reverse integer.\n",
        "* [190: Reverse-Bits](https://leetcode.com/problems/reverse-bits/)"
      ]
    },
    {
      "cell_type": "markdown",
      "metadata": {},
      "source": [
        "## 8 String-to-Integer-(atoi)\n",
        "* [008: String-to-Integer-(atoi)](https://leetcode.com/problems/string-to-integer-atoi/)"
      ]
    },
    {
      "cell_type": "markdown",
      "metadata": {},
      "source": [
        "## 9 - 两个字符串对比的pattern\n",
        "* [010: Regular-Expression-Matching](https://leetcode.com/problems/regular-expression-matching/) 高频\n",
        "* [044: Wildcard-Matching](https://leetcode.com/problems/wildcard-matching/) 中频   \n",
        "* [072: Edit-Distance](https://leetcode.com/problems/edit-distance/) 中频   \n",
        "\n",
        "一个参考\n",
        "https://www.cs.umd.edu/users/meesh/cmsc351/mount/lectures/lect25-longest-common-subseq.pdf    \n",
        "* [115: Distinct-Subsequences](https://leetcode.com/problems/distinct-subsequences/)    低频         \n",
        "* [1143: Longest-Common-Subsequence](https://leetcode.com/problems/longest-common-subsequence/) 中低频\n",
        "* [1312: Minimum-Insertion-Steps-to-Make-a-String-Palindrome](https://leetcode.com/problems/minimum-insertion-steps-to-make-a-string-palindrome/)      低频\n",
        "1312 和 1143 是几乎一样的。\n",
        "* [516: Longest-Palindromic-Subsequence](https://leetcode.com/problems/longest-palindromic-subsequence/)      \n",
        "    516 和 1312 是正儿八经的一模一样。   \n",
        "    \n",
        "还有还没归类的 \n",
        "* [1092: Shortest-Common-Supersequence](https://leetcode.com/problems/shortest-common-supersequence/) 低频"
      ]
    },
    {
      "cell_type": "markdown",
      "metadata": {},
      "source": [
        "## 10 - Container-With-Most-Water 高频\n",
        "* [011: Container-With-Most-Water](https://leetcode.com/problems/container-with-most-water/)    \n",
        "与 042 有那么一点相似吧，不合并了。     \n",
        "重点是一句 短板决定水量，移动短板。"
      ]
    },
    {
      "cell_type": "markdown",
      "metadata": {},
      "source": [
        "## 11 Integer <=> Roman\n",
        "* [012: Integer-to-Roman](https://leetcode.com/problems/integer-to-roman/)\n",
        "* [013: Roman-to-Integer](https://leetcode.com/problems/roman-to-integer/)"
      ]
    },
    {
      "cell_type": "markdown",
      "metadata": {},
      "source": [
        "## Permutations/Combinations/Subsets\n",
        "基础的 BackTrack 套件   \n",
        "Permutations: TO(N!);       \n",
        "Combinations: TO( N!/(N-k)!/k! );     \n",
        "Subsets: TO(N*2^N)       \n",
        "\n",
        "46 高频！  \n",
        "* [046: Permutations](https://leetcode.com/problems/permutations/)\n",
        "* [047: Permutations-II](https://leetcode.com/problems/permutations-ii/)  有重复数字\n",
        "* [077: Combinations](https://leetcode.com/problems/combinations/)   \n",
        "* [078: Subsets](https://leetcode.com/problems/subsets/) 实际上\n",
        "* [090: Subsets-II](https://leetcode.com/problems/subsets-ii/)   有重复数字\n",
        "\n",
        "17高频应当经常做做，尤其是初始化。   254 低频，但是应该是最难的。     \n",
        "   \n",
        "39 40 77 216 选一个做就好了。       \n",
        "* [017: Letter-Combinations-of-a-Phone-Number](https://leetcode.com/problems/letter-combinations-of-a-phone-number/)\n",
        "* [022: Generate-Parentheses](https://leetcode.com/problems/generate-parentheses/)\n",
        "* [039: Combination-Sum](https://leetcode.com/problems/combination-sum/)\n",
        "* [040: Combination-Sum-II](https://leetcode.com/problems/combination-sum-ii/)  \n",
        "\n",
        "* [216: Combination-Sum-III](https://leetcode.com/problems/combination-sum-iii/)  \n",
        "* [254: Factor-Combinations](https://leetcode.com/problems/factor-combinations/)      \n",
        "     \n",
        "注意 377 可以 combinations, 但是会 TLE, 所以是个 dp 了      \n",
        "* [377: Combination-Sum-IV](https://leetcode.com/problems/combination-sum-iv/)\n",
        "\n",
        "\n"
      ]
    },
    {
      "cell_type": "markdown",
      "metadata": {},
      "source": [
        "##  Merge-k-Sorted-Lists\n",
        "23 里包括了 21    \n",
        "* [021: Merge-Two-Sorted-Lists](https://leetcode.com/problems/merge-two-sorted-lists/)\n",
        "* [023: Merge-k-Sorted-Lists](https://leetcode.com/problems/merge-k-sorted-lists/) \n",
        "* [088: Merge-Sorted-Array](https://leetcode.com/problems/merge-sorted-array/)   \n",
        "    从尾部开始 merge 比较机智\n",
        "* [977: Squares-of-a-Sorted-Array](https://leetcode.com/problems/squares-of-a-sorted-array/)     \n",
        "    找到负的 subarray 的结尾和非负 subarray 的起点，然后直接就能 merge 一个 O(N) 的结果。"
      ]
    },
    {
      "cell_type": "markdown",
      "metadata": {},
      "source": [
        "## Next Permutation 超高频 \n",
        "暂时无相关的题。\n",
        "这个题重在分析题意, next permutation 是按照 lexicographically\n",
        "字典顺序的下一个。\n",
        "其实很难讲清楚。随便写点吧，不行就去参考解答。\n",
        "54321 是 lexicographically 到头了，所以直接翻转。\n",
        "如果 .....46521 是这么一个结尾，6521 是完全倒序的，是最大的字典顺序，\n",
        "如果 4 这里是 大于等于 6 的，我们仍然是最大字典序，没什么好说的，但是这里\n",
        "突然出现了一个 4，也就是说一个山顶出现了，那么我们是可以做 next permutation 的。\n",
        "相当于我们要进位。那么我们找 6521 里面 smallest element that is greater than 4.\n",
        "拿它和 4 交换 得到.....56421. 由于是 next permutation, 交换之后，由于 6421\n",
        "仍然有序并且是最大的字典序，所以我们要翻转 6421.\n",
        "* [031: Next-Permutation](https://leetcode.com/problems/next-permutation/)"
      ]
    },
    {
      "cell_type": "markdown",
      "metadata": {},
      "source": [
        "## Search-in-Rotated-Sorted-Array   \n",
        "081 确实更一般情况，但是 033 考的高频的多。核心的判断就是，确定左侧是否有序，然后直接 else 就行了。\n",
        "153 是有一个不错的题。处理 pivot 很容易，但是如何返回呢？ 答案是 看 nums[pivot] < nums[pivot + 1] return pivot + 1, \n",
        "num[pivot] < nums[pivot - 1] return pivot. 等于一次检查前后一共三个点。     \n",
        "154 是超级低频的。有Duplicate 的 binary search 都很难.\n",
        "* [033: Search-in-Rotated-Sorted-Array](https://leetcode.com/problems/search-in-rotated-sorted-array/)\n",
        "* [153: Find-Minimum-in-Rotated-Sorted-Array](https://leetcode.com/problems/find-minimum-in-rotated-sorted-array/)\n",
        "\n",
        "\n",
        "* [081: Search-in-Rotated-Sorted-Array-II](https://leetcode.com/problems/search-in-rotated-sorted-array-ii/)\n",
        "* [154: Find-Minimum-in-Rotated-Sorted-Array-II](https://leetcode.com/problems/find-minimum-in-rotated-sorted-array-ii/)"
      ]
    },
    {
      "cell_type": "markdown",
      "metadata": {},
      "source": [
        "## Count-and-Say\n",
        " 这个题麻烦在于弄懂题意。看起来好像可以递归，实际上不太能。\n",
        " 其实就是重复 n - 1 次 **把一个函数的输出当成下一次的输入**。\n",
        " 而这个函数本身干了什么事，虽然是这个题目中比较重要的部分，但是却是这个题中得到的最不重要的知识。\n",
        " 我觉得这个题目考察的最重要的就是，**能写出去耦的代码**。\n",
        "\n",
        "* [038: Count-and-Say](https://leetcode.com/problems/count-and-say/)"
      ]
    },
    {
      "cell_type": "markdown",
      "metadata": {},
      "source": [
        "## Multiply-Strings\n",
        "* [043: Multiply-Strings](https://leetcode.com/problems/multiply-strings/)               \n",
        "043 String 乘法 M * N, 123 * 456 \n",
        "最重要的观察是 M 数的 i 位 和 N 数的 j 位相乘，得到的是 i + j 和 i + j + 1 位。"
      ]
    },
    {
      "cell_type": "markdown",
      "metadata": {},
      "source": [
        "## Jump-Game\n",
        "045 真是一道魔鬼题，可以用O(N^2)的DP方法解。 最优解竟然是一个类似于贪心的BFS。\n",
        "Jump Game 其实挺死亡的，它本身是个DAG，所以用DFS的 backtracking 是可以的。   \n",
        "但是时间复杂度非常高。\n",
        "* [045: Jump-Game-II](https://leetcode.com/problems/jump-game-ii/)   \n",
        "* [055: Jump-Game](https://leetcode.com/problems/jump-game/)   "
      ]
    },
    {
      "cell_type": "markdown",
      "metadata": {},
      "source": [
        "## Anagrams\n",
        "49 自然又高频又好啊，而438是一个sliding window, 当然我们还是给归到这里了。\n",
        "* [049: Group-Anagrams](https://leetcode.com/problems/group-anagrams/)    \n",
        "    49 一个亮点是 char[] 可以直接 String.valueOf 得到一个拼接 String, int[] 不行，int[] 是一个地址\n",
        "* [242: Valid-Anagram](https://leetcode.com/problems/valid-anagram/)\n",
        "* [438: Find-All-Anagrams-in-a-String](https://leetcode.com/problems/find-all-anagrams-in-a-string/)\n"
      ]
    },
    {
      "cell_type": "markdown",
      "metadata": {},
      "source": [
        "## 处理时间间隔\n",
        "763 和56很像 很机智。\n",
        "08/05/2020      \n",
        "* [056: Merge-Intervals](https://leetcode.com/problems/merge-intervals/)\n",
        "* [057: Insert-Interval](https://leetcode.com/problems/insert-interval/) \n",
        "* [252: Meeting-Rooms](https://leetcode.com/problems/meeting-rooms/)   \n",
        "    252 不重要\n",
        "* [253: Meeting-Rooms-II](https://leetcode.com/problems/meeting-rooms-ii/)  \n",
        "    253 高频，而且用PQ 确实很机智，很重要。   \n",
        "* [452: Minimum-Number-of-Arrows-to-Burst-Balloons](https://leetcode.com/problems/minimum-number-of-arrows-to-burst-balloons/)   \n",
        "    452 不高频，还挺有意思的，是056 反其道而行之，缩小区间而非连接区间。 \n",
        "* [763: Partition-Labels](https://leetcode.com/problems/partition-labels/)\n",
        "    763 高频，是merge interval的解法，同时有一个贪心的算法，也很不错。\n",
        "* [729: My-Calendar-I](https://leetcode.com/problems/my-calendar-i/)  低频。   \n",
        " 可以用 TreeMap, 然后 floorKey() 和 ceilingKey()。 TreeMap 的 解法比 List 时间复杂度好。    \n",
        " 为了能 hold 住下一题，还要考虑用 List<int[]> 是一个 N^2。                 \n",
        "* [731: My-Calendar-II](https://leetcode.com/problems/my-calendar-ii/)    低频           \n",
        " 这一题就想着 252，搞了好几个 thread。按这个题的要求，那我们就2个thread 就好。\n",
        " 一个存正常的部分，和729题一样，一个 overlap， 只存overlap. 这又像 452 了。     \n",
        "[435. Non-overlapping-Intervals](leetCode-435-Non-overlapping-Intervals.md)   \n",
        "  这个题不能用 253 的写法，其实是一个贪心Greedy。它和452的联系其实更紧密。 \n",
        "  它贪心的地方在于，我们排序好之后，两个有重复部分的，我们永远只扔掉那个触角伸的更远的，因为它更大可能造成重复。 "
      ]
    },
    {
      "cell_type": "markdown",
      "metadata": {},
      "source": [
        "## Rotate-List\n",
        "* [061: Rotate-List](https://leetcode.com/problems/rotate-list/)    \n",
        "* [189: Rotate-Array](https://leetcode.com/problems/rotate-array/)   \n",
        "* [186: Reverse-Words-in-a-String-II](https://leetcode.com/problems/reverse-words-in-a-string-ii/)      \n",
        "186 确实和 189 还有点像的"
      ]
    },
    {
      "cell_type": "markdown",
      "metadata": {},
      "source": [
        "## 一些 2D 动态规划 高频\n",
        "这些都挺高频都挺好的.      \n",
        "174 特别好，是非常好的题！只能从终点往起点 dp, 和 minimum-path-sum 不一样         \n",
        "062, 063,064 好理解，只查找它自己的上左邻居。221是查找自己的 上，左，西北邻居。\n",
        "062-221 都是高频。\n",
        "* [062: Unique-Paths](https://leetcode.com/problems/unique-paths/)    \n",
        "* [063: Unique-Paths-II](https://leetcode.com/problems/unique-paths-ii/)  \n",
        "* [064: Minimum-Path-Sum](https://leetcode.com/problems/minimum-path-sum/)\n",
        "* [174: Dungeon-Game](https://leetcode.com/problems/dungeon-game/)     \n",
        "* [221: Maximal-Square](https://leetcode.com/problems/maximal-square/)\n",
        "\n",
        "\n",
        "他们和第10题那一坨很像。但是这个更简单。"
      ]
    },
    {
      "cell_type": "markdown",
      "metadata": {},
      "source": [
        "## 动态规划 Fibonacci Like 1-D Dp\n",
        "* [070: Climbing-Stairs](https://leetcode.com/problems/climbing-stairs/)  \n",
        "* [091: Decode-Ways](https://leetcode.com/problems/decode-ways/)\n",
        "* [509: Fibonacci-Number](https://leetcode.com/problems/fibonacci-number/)  "
      ]
    },
    {
      "cell_type": "markdown",
      "metadata": {},
      "source": [
        "## Search a 2D matrix\n",
        "* [074: Search-a-2D-Matrix](https://leetcode.com/problems/search-a-2d-matrix/)    \n",
        "* [240: Search-a-2D-Matrix-II](https://leetcode.com/problems/search-a-2d-matrix-ii/)\n",
        "    240用binary search 不是最佳，但是和074放一起比较好。"
      ]
    },
    {
      "cell_type": "markdown",
      "metadata": {},
      "source": [
        "## Quick Sort 相关，部分可以 HeapSort\n",
        "75, 215, 973, 347, 694 都很高频         \n",
        "075 是一个用 Quick Sort 的方法， 215 最佳方案是一个类似于 Quick Sort 的 Quick Select。         \n",
        "Quick Select 就是为 215 而生的。            \n",
        "* [075: Sort-Colors](https://leetcode.com/problems/sort-colors/)  三向快排   \n",
        "    写075的重点是，075是3-way快排, i 的左侧是小于等于分割值的元素，left 左侧是小于的元素，left是等于分割元素或者等于i的。     \n",
        "    而right 右侧是大于分割的元素，right本身不确定。\n",
        "    所以把左侧元素和i交换之后，可以 i++,left++,但是right和i交换之后，只有right--而不i++.\n",
        "* [215: Kth-Largest-Element-in-an-Array](https://leetcode.com/problems/kth-largest-element-in-an-array/)     \n",
        "215 笔记 \n",
        "[215. Kth-Largest-Element-in-an-Array](leetCode-215-Kth-Largest-Element-in-an-Array.md)  \n",
        "\n",
        "[中文力扣变形，找前k小的数](https://leetcode-cn.com/problems/zui-xiao-de-kge-shu-lcof/)\n",
        "这个题和973差不多，由于不需要排序好的结果，用quick select找到第k大的时候直接就可以返回pivot前面的数组。\n",
        "\n",
        "* [973: K-Closest-Points-to-Origin](https://leetcode.com/problems/k-closest-points-to-origin/)       \n",
        "973 是 215 的换汤不换药，要保证能够起码做出 heap的解法，然后挑战 quick select.     \n",
        "* [414: Third-Maximum-Number](https://leetcode.com/problems/third-maximum-number/) \n",
        "    414 是 215 的子集，没有什么意思。 但是它强迫你必须O(N)解法。而且第三大是不重复的第三大，因此比较有意思了。\n",
        "* [703: Kth-Largest-Element-in-a-Stream](https://leetcode.com/problems/kth-largest-element-in-a-stream/)\n",
        "    703 是 215 的另一类子集，最好的办法就是用 heap sort 做，这下不能用 quick sort 了。\n",
        "* [692: Top-K-Frequent-Words](https://leetcode.com/problems/top-k-frequent-words/)      \n",
        "* [347: Top-K-Frequent-Elements](https://leetcode.com/problems/top-k-frequent-elements/)     \n",
        "    347 和 692 其实一样, 原则上都可以 quick select 频率，但是347题目保证了不会有 第 k 个有好几个的情况，此时692就很恶心了。因为692还要考虑如果第 k 个有好几个，输出哪一个的问题。\n",
        "    347 因此还可以用 bucket sort 很轻松的写。\n",
        "    692 因此很高频。所以至少要保证692可以做出 heap 的解法。"
      ]
    },
    {
      "cell_type": "markdown",
      "metadata": {},
      "source": [
        "## Minimum-Window-Substring 高频，滑窗\n",
        "* [076: Minimum-Window-Substring](https://leetcode.com/problems/minimum-window-substring/)"
      ]
    },
    {
      "cell_type": "markdown",
      "metadata": {},
      "source": [
        "## Word Search I & II\n",
        "* [079: Word-Search](https://leetcode.com/problems/word-search/) 高频\n",
        "* [212: Word-Search-II](https://leetcode.com/problems/word-search-ii/)  中频           \n",
        "其实这已经是两个题了。word-search I 就是一个普通的 dfs 回溯，而 word-search-ii 是个结合了 trie 的 dfs 回溯。\n",
        "当然这两个题都是很好的题，虽然有其他很相似的题，我们也不合并到其他地方了。"
      ]
    },
    {
      "cell_type": "markdown",
      "metadata": {},
      "source": [
        "## Gray Code\n",
        "这个题的难点在于如何精巧的实现每次只变一个数\n",
        "* [089: Gray-Code](https://leetcode.com/problems/gray-code/) "
      ]
    },
    {
      "cell_type": "markdown",
      "metadata": {},
      "source": [
        "## Palindrome\n",
        "[125: Valid-Palindrome](https://leetcode.com/problems/valid-palindrome/)     \n",
        "[680: Valid-Palindrome-II](https://leetcode.com/problems/valid-palindrome-ii/)     "
      ]
    },
    {
      "cell_type": "markdown",
      "metadata": {},
      "source": [
        "## Word-Ladder 高频\n",
        "* [127: Word-Ladder](https://leetcode.com/problems/word-ladder/)\n",
        "* [126: Word-Ladder-II](https://leetcode.com/problems/word-ladder-ii/)"
      ]
    },
    {
      "cell_type": "markdown",
      "metadata": {},
      "source": [
        "## 纯考 Bitwise 的系列题目 Single Numbers\n",
        "这三个题太好了！刷熟练。\n",
        "\n",
        "代码笔记: \n",
        "* [136. Single-Number](leetCode-136-Single-Number.md)\n",
        "* [137. Single-Number-II](leetCode-137-Single-Number-II.md)\n",
        "* [260. Single-Number-III](leetCode-260-Single-Number-III.md)\n",
        "\n",
        "题目：\n",
        "* [136: Single-Number](https://leetcode.com/problems/single-number/)  \n",
        "* [137: Single-Number-II](https://leetcode.com/problems/single-number-ii/)   \n",
        "* [260: Single-Number-III](https://leetcode.com/problems/single-number-iii/)     \n",
        "\n",
        "137, 260 用HashMap或者是排序的方法都很平庸，必须要能意识到用 bitwise operation 才能过关。"
      ]
    },
    {
      "cell_type": "markdown",
      "metadata": {},
      "source": [
        "## Word Break 高频 是一个 BFS ？\n",
        "* [139: Word-Break](https://leetcode.com/problems/word-break/)    \n",
        "用 BFS 把 s 分解为 子数组解决。例如 从 0 到 4 匹配了一个词，那么就从 4 开始重复这个问题。\n",
        "一旦 4 开始的 子问题解决了，我们就 mark 一下。这样避免重复。\n",
        "* [140: Word-Break-II](https://leetcode.com/problems/word-break-ii/)    不会"
      ]
    },
    {
      "cell_type": "markdown",
      "metadata": {},
      "source": [
        "## Floyd Find Cycle, 快慢指针\n",
        "* [141: Linked-List-Cycle](https://leetcode.com/problems/linked-list-cycle/)     \n",
        "* [142: Linked-List-Cycle-II](https://leetcode.com/problems/linked-list-cycle-ii/)      \n",
        "* [160: Intersection-of-Two-Linked-Lists](https://leetcode.com/problems/intersection-of-two-linked-lists/)      \n",
        "* [287: Find-the-Duplicate-Number](https://leetcode.com/problems/find-the-duplicate-number/)  "
      ]
    },
    {
      "cell_type": "markdown",
      "metadata": {},
      "source": [
        "## Design: LRU-cache 高频\n",
        "* [146: LRU-Cache](https://leetcode.com/problems/lru-cache/) 超高频   \n",
        "* [460: LFU-Cache](https://leetcode.com/problems/lfu-cache/) 中高频"
      ]
    },
    {
      "cell_type": "markdown",
      "metadata": {},
      "source": [
        "## Design: Min-Stack 高频\n",
        "* [155: Min-Stack](https://leetcode.com/problems/min-stack/)  高频\n",
        "* [716: Max-Stack](https://leetcode.com/problems/max-stack/)  中频"
      ]
    },
    {
      "cell_type": "markdown",
      "metadata": {},
      "source": [
        "## Find-Peak-Element\n",
        "* [162: Find-Peak-Element](https://leetcode.com/problems/find-peak-element/)    \n",
        "* [852: Peak-Index-in-a-Mountain-Array](https://leetcode.com/problems/peak-index-in-a-mountain-array/)     "
      ]
    },
    {
      "cell_type": "markdown",
      "metadata": {},
      "source": [
        "## Majority-Element   \n",
        "Majority 的常规做法就是 HashMap. 但是 169， 229 还有 一个 voting algorithm。 学学。\n",
        "1150 因为有序，所以可以搞个 log(N) 的法子。       \n",
        "* [169: Majority-Element](https://leetcode.com/problems/majority-element/)     \n",
        "* [229: Majority-Element-II](https://leetcode.com/problems/majority-element-ii/)     \n",
        "* [1150: Check-If-a-Number-Is-Majority-Element-in-a-Sorted-Array](https://leetcode.com/problems/check-if-a-number-is-majority-element-in-a-sorted-array/)"
      ]
    },
    {
      "cell_type": "markdown",
      "metadata": {},
      "source": [
        "## 位运算\n",
        "* [191: Number-of-1-Bits](https://leetcode.com/problems/number-of-1-bits/)"
      ]
    },
    {
      "cell_type": "markdown",
      "metadata": {},
      "source": [
        "## House Robber \n",
        "213 比 198 更普遍适用。                 \n",
        "* [198: House-Robber](https://leetcode.com/problems/house-robber/)\n",
        "* [213: House-Robber-II](https://leetcode.com/problems/house-robber-ii/)\n",
        "\n",
        "\n",
        "256 和 265 的 dp 解法挺好的。好好想想，确实和 House Robber 有一定的相似之处。        \n",
        "* [256: Paint-House](https://leetcode.com/problems/paint-house/)\n",
        "* [265: Paint-House-II](https://leetcode.com/problems/paint-house-ii/)          \n",
        "\n",
        "\n",
        "说实话337是个很好的树的问题，但是不太好归类。就留给这一题了。       \n",
        "* [337: House-Robber-III](https://leetcode.com/problems/house-robber-iii/)"
      ]
    },
    {
      "cell_type": "markdown",
      "metadata": {},
      "source": [
        "## 找联通分量个数 number of connected pieces, DFS, BFS, UnionFind 皆宜\n",
        "* [200: Number-of-Islands](https://leetcode.com/problems/number-of-islands/)\n",
        "* [305: Number-of-Islands-II](https://leetcode.com/problems/number-of-islands-ii/)     \n",
        "    305是一个UnionFind 最佳的题              \n",
        "* [547. Friend-Circles](leetCode-547-Friend-Circles.md)"
      ]
    },
    {
      "cell_type": "markdown",
      "metadata": {},
      "source": [
        "## Reverse LinkedList\n",
        "都是不错的题目。 206 和 156 更接近。\n",
        "* [092: Reverse-Linked-List-II](https://leetcode.com/problems/reverse-linked-list-ii/)\n",
        "* [206: Reverse-Linked-List](https://leetcode.com/problems/reverse-linked-list/)    \n",
        "* [234: Palindrome-Linked-List](https://leetcode.com/problems/palindrome-linked-list/)  \n",
        "* [156: Binary-Tree-Upside-Down](https://leetcode.com/problems/binary-tree-upside-down/)    \n",
        "\n",
        "\n"
      ]
    },
    {
      "cell_type": "markdown",
      "metadata": {},
      "source": [
        "## Trie\n",
        "* [208: Implement-Trie-(Prefix-Tree)](https://leetcode.com/problems/implement-trie-prefix-tree/)\n",
        "* [642: Design-Search-Autocomplete-System](https://leetcode.com/problems/design-search-autocomplete-system/)   \n",
        "* [211: Design-Add-and-Search-Words-Data-Structure](https://leetcode.com/problems/design-add-and-search-words-data-structure/)  \n"
      ]
    },
    {
      "cell_type": "markdown",
      "metadata": {},
      "source": [
        "## Two Pointer 类似 Monotonic Queue/ Array 的\n",
        "\n",
        "[209: Minimum-Size-Subarray-Sum](https://leetcode.com/problems/minimum-size-subarray-sum/)    \n"
      ]
    },
    {
      "cell_type": "markdown",
      "metadata": {},
      "source": [
        "## 拓扑排序   \n",
        "* [207: Course-Schedule](https://leetcode.com/problems/course-schedule/)          \n",
        "* [210: Course-Schedule-II](https://leetcode.com/problems/course-schedule-ii/)      \n",
        "* [261: Graph-Valid-Tree](https://leetcode.com/problems/graph-valid-tree/)       \n",
        "    为什么把261也放进来呢？因为树就是一个DAG，要判断有无环，你环都判断了，拓扑排序就水到渠成了。\n",
        "* [310: Minimum-Height-Trees](https://leetcode.com/problems/minimum-height-trees/)          \n",
        "    为什么把 310 放进来呢？因为310的 degrees bfs法和 bfs的拓扑排序很像"
      ]
    },
    {
      "cell_type": "markdown",
      "metadata": {},
      "source": [
        "## Basic Calculator    高频\n",
        "典型的是772.    \n",
        "227 没有括号，更简单。224, 227 因为有括号，所以可以搞个 dfs.   \n",
        "处理 String 的方法都是 sum + preNum preOp num c.      \n",
        "根据 c 的不同，决定怎么处理 sum + preNum preOp num   并更新指针。         \n",
        "易错点有要加个 dummyEnd。      \n",
        "* [224: Basic-Calculator](https://leetcode.com/problems/basic-calculator/)    \n",
        "* [227: Basic-Calculator-II](https://leetcode.com/problems/basic-calculator-ii/)     \n",
        "* [772: Basic-Calculator-III](https://leetcode.com/problems/basic-calculator-iii/)    \n",
        "Notes:   [772. Basic-Calculator-III](leetCode-772-Basic-Calculator-III.md)     "
      ]
    },
    {
      "cell_type": "markdown",
      "metadata": {},
      "source": [
        "## Lowest Common Ancestor   \n",
        "KeyWord: PostOrder     \n",
        "236 比较重要和高频，1123 更难一点。基本的想法都是 postOrder 之后再处理。\n",
        "235由于是 BST可以利用 BST的性质做到 O(1) 的 space complexity.  \n",
        "* [235: Lowest-Common-Ancestor-of-a-Binary-Search-Tree](https://leetcode.com/problems/lowest-common-ancestor-of-a-binary-search-tree/)   \n",
        "* [236: Lowest-Common-Ancestor-of-a-Binary-Tree](https://leetcode.com/problems/lowest-common-ancestor-of-a-binary-tree/)\n",
        "* [1123: Lowest-Common-Ancestor-of-Deepest-Leaves](https://leetcode.com/problems/lowest-common-ancestor-of-deepest-leaves/)"
      ]
    },
    {
      "cell_type": "markdown",
      "metadata": {},
      "source": [
        "## 239: Sliding-Window-Maximum \n",
        "Sliding Window 并且 monotonic queue.         \n",
        "* [239: Sliding-Window-Maximum](https://leetcode.com/problems/sliding-window-maximum/)"
      ]
    },
    {
      "cell_type": "markdown",
      "metadata": {},
      "source": [
        "## 263 Ugly Number 丑数 \n",
        "\n",
        "264 是一个挺有意思的动态规划的题目，至少要保证想出来heap的解法。\n",
        "* [263: Ugly-Number](https://leetcode.com/problems/ugly-number/)    \n",
        "* [264: Ugly-Number-II](https://leetcode.com/problems/ugly-number-ii/)    \n",
        "* [313: Super-Ugly-Number](https://leetcode.com/problems/super-ugly-number/)\n",
        "\n",
        "如果参透了 264，那么313， 都不难"
      ]
    },
    {
      "cell_type": "markdown",
      "metadata": {},
      "source": [
        "## 一个单独的 1D dp\n",
        "* [279: Perfect-Squares](https://leetcode.com/problems/perfect-squares/)"
      ]
    },
    {
      "cell_type": "markdown",
      "metadata": {},
      "source": [
        "## LIS: 高频并且重点。\n",
        "* [300: Longest-Increasing-Subsequence](https://leetcode.com/problems/longest-increasing-subsequence/)\n",
        "* [368: Largest-Divisible-Subset](https://leetcode.com/problems/largest-divisible-subset/)\n",
        "\n",
        "673 有 Segment Tree 的解法。\n",
        "* [673: Number-of-Longest-Increasing-Subsequence](https://leetcode.com/problems/number-of-longest-increasing-subsequence/)\n",
        "\n",
        "随手做了一个 easy 水题\n",
        "* [674: Longest-Continuous-Increasing-Subsequence](https://leetcode.com/problems/longest-continuous-increasing-subsequence/)"
      ]
    },
    {
      "cell_type": "markdown",
      "metadata": {},
      "source": [
        "## Sparse Matrix   中频       \n",
        "* [311: Sparse-Matrix-Multiplication](https://leetcode.com/problems/sparse-matrix-multiplication/)         \n",
        "矩阵乘法:     \n",
        "左边 m1*n1 的矩阵 和 m2 * n2 相乘，有 n1 == m2. 结果矩阵是 m1*n2的         \n",
        "左边矩阵 (i1, j1) 元素和, 右边矩阵 (i2, j2) 的积，是加在结果矩阵的 （i1, j2) 位置上的，注意 j1 == i2 。    \n",
        "所以 左侧 (i1, j1) 是找 右侧 j1 行所有的元素 (j1, j2) 相乘并且加在 (i1, j2) 上面。            \n",
        "因此我们可以把 左右矩阵 用 HashMap 存起来。    \n",
        "其中左矩阵 integer 是行，按行存元素。   \n",
        "右矩阵 integer 是列，按列存元素。   \n",
        "这样我们从左矩阵取出一个数(i1,j1)的时候，直接就找到右矩阵所有的 j1 列，      \n",
        "然后把结果加到 (i1, j2) 上面。      \n",
        "```java\n",
        "Map<Integer, List<Integer, Integer > > leftMatrixRows;\n",
        "Map<Integer, List<Integer, Integer > > rightMatrixCols;\n",
        "Map<Integer, Map<Integer, Integer>> ans;\n",
        "```\n",
        "参考稀疏矩阵的表示    \n",
        "https://www.geeksforgeeks.org/sparse-matrix-representations-using-list-lists-dictionary-keys/?ref=rp   \n",
        "\n",
        "* [1570: Dot-Product-of-Two-Sparse-Vectors](https://leetcode.com/problems/dot-product-of-two-sparse-vectors/)    \n",
        "稀疏向量"
      ]
    },
    {
      "cell_type": "markdown",
      "metadata": {},
      "source": [
        "## Design: Insert-Delete-GetRandom-O(1) 高频\n",
        "核心，HashMap + ArrayList\n",
        "* [380: Insert-Delete-GetRandom-O(1)](https://leetcode.com/problems/insert-delete-getrandom-o1/)     高频      \n",
        "* [381: Insert-Delete-GetRandom-O(1)---Duplicates-allowed](https://leetcode.com/problems/insert-delete-getrandom-o1-duplicates-allowed/)"
      ]
    },
    {
      "cell_type": "markdown",
      "metadata": {},
      "source": [
        "### 讨厌啊处理字符串，数字的 没搞明白其实\n",
        "* [402: Remove-K-Digits](https://leetcode.com/problems/remove-k-digits/)   "
      ]
    },
    {
      "cell_type": "markdown",
      "metadata": {},
      "source": [
        "## Design File System: 真的还挺难的 高频\n",
        "* [588: Design-In-Memory-File-System](https://leetcode.com/problems/design-in-memory-file-system/)     \n",
        " 核心是建立一个File 节点。最好可以区分自己是 file 还是 folder.   "
      ]
    },
    {
      "cell_type": "markdown",
      "metadata": {},
      "source": [
        "## Stack 相关\n",
        "[735: Asteroid-Collision](https://leetcode.com/problems/asteroid-collision/)    "
      ]
    },
    {
      "cell_type": "markdown",
      "metadata": {},
      "source": [
        "## Reorganize-String 高频\n",
        "这个题 O(N) 很好玩。和621 有点像的。\n",
        "* [767: Reorganize-String](https://leetcode.com/problems/reorganize-string/)\n",
        "* [621: Task-Scheduler](https://leetcode.com/problems/task-scheduler/)   中高频"
      ]
    },
    {
      "cell_type": "markdown",
      "metadata": {},
      "source": [
        "## 左右括号相关\n",
        "[1249: Minimum-Remove-to-Make-Valid-Parentheses](https://leetcode.com/problems/minimum-remove-to-make-valid-parentheses/)"
      ]
    }
  ],
  "metadata": {
    "kernelspec": {
      "display_name": "Java",
      "language": "java",
      "name": "java"
    },
    "language_info": {
      "codemirror_mode": "java",
      "file_extension": ".jshell",
      "mimetype": "text/x-java-source",
      "name": "java",
      "pygments_lexer": "java",
      "version": "19+36-2238"
    }
  },
  "nbformat": 4,
  "nbformat_minor": 4
}
