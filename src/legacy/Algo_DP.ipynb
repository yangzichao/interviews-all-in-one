{
 "cells": [
  {
   "cell_type": "markdown",
   "metadata": {},
   "source": [
    "* https://www.youtube.com/watch?v=FLbqgyJ-70I\n",
    "* https://docs.google.com/presentation/d/1F_Qp3kzw7jZkPpb7ll7J6-02285bCA3Z9nmU1e7a2rk/edit#slide=id.g8285dd8f3f_1_502"
   ]
  },
  {
   "cell_type": "markdown",
   "metadata": {},
   "source": [
    "DP: State Transition Equation, 状态转移方程"
   ]
  },
  {
   "cell_type": "markdown",
   "metadata": {},
   "source": []
  },
  {
   "cell_type": "markdown",
   "metadata": {},
   "source": [
    "https://www.educative.io/courses/grokking-dynamic-programming-patterns-for-coding-interviews    \n",
    " "
   ]
  },
  {
   "cell_type": "markdown",
   "metadata": {},
   "source": [
    "个人总结：如何几分钟内解释好一个动态规划？以1143为例\n",
    "1. 和其他的问题一样，搞明白问题。问清楚input, 问清楚概念。比如说这里的输入，允许空的输入吗？(edge case, 如果有的话). \n",
    "2. 很啰嗦的重复一遍关键概念\n",
    "   By saying LCS, you want the longest common subsequence. A subsequence of a string is a new string generated\n",
    "   from the original string with some characters (can be none) deleted without changing the relative order of the\n",
    "   remaining characters. Is that correct? You want a common subsequence rather than subarrays. \n",
    "3. 如果可能，提brutal force的方法。然后说我们不可能用这种方法，时间复杂度太高，根本不现实。\n",
    "    The brutal force method to solve this problem is exponential. Because for each character in the string, you\n",
    "    have two options. It is either in or not in the subsequence. \n",
    "    We cannot afford this time complexity in real word. This is not realistic. We have to find a better way.\n",
    "    \n",
    "4. 然后说我发现这个问题有一个子问题，所以非常适合用动态规划。\n"
   ]
  },
  {
   "cell_type": "markdown",
   "metadata": {},
   "source": [
    "https://www.geeksforgeeks.org/top-20-dynamic-programming-interview-questions/    \n",
    "1. [1143: Longest-Common-Subsequence](https://leetcode.com/problems/longest-common-subsequence/)     \n",
    "    最好方法 O(MN), 可以做。[g4g参考](https://www.geeksforgeeks.org/longest-common-subsequence-dp-4/)\n",
    "2. [300: Longest-Increasing-Subsequence](https://leetcode.com/problems/longest-increasing-subsequence/)      \n",
    "    普通dp O(N^2), 注意掌握那个 NlogN 的方法，    \n",
    "    [g4g参考](https://www.geeksforgeeks.org/longest-increasing-subsequence-dp-3/)      \n",
    "    它还有个 LC 没有的变种 [maximum-sum-increasing-subsequence](https://www.geeksforgeeks.org/maximum-sum-increasing-subsequence-dp-14/)    \n",
    "   \n",
    "    \n",
    "    \n",
    "```java\n",
    "\n",
    "//     For example, if input is {1, 101, 2, 3, 100, 4, 5}, then output should be 106 (1 + 2 + 3 + 100);     \n",
    "//     If the input array is {3, 4, 5, 10}, then output should be 22 (3 + 4 + 5 + 10);     \n",
    "//     If the input array is {10, 5, 4, 3}, then output should be 10.   \n",
    "public class Main {\n",
    "    public static int maximumSumIncreasingSubsequence(int[] nums) {\n",
    "        if( nums.length < 1 ) {\n",
    "            return 0;\n",
    "        }\n",
    "        int[] dp = new int[nums.length];\n",
    "        int maxSum = 0;\n",
    "        for(int i = 0; i < nums.length; i++ ) {\n",
    "            int curMax = 0;\n",
    "            for(int j = 0; j < i; j++ ) {\n",
    "                if( nums[j] < nums[i] ) {\n",
    "                    curMax = Math.max(curMax, dp[j]);\n",
    "                }\n",
    "            }\n",
    "            dp[i] = curMax + nums[i];\n",
    "            maxSum = Math.max(maxSum, dp[i]);\n",
    "        }\n",
    "        return maxSum;\n",
    "    }\n",
    "    \n",
    "    public static void main(String[] args) {\n",
    "        int[] test1 = new int[]{1, 101, 2, 3, 100, 4, 5};\n",
    "        int[] test2 = new int[]{3, 4, 5, 10};\n",
    "        int[] test3 = new int[]{10, 5, 4, 3};\n",
    "        int[] edge1 = new int[]{};\n",
    "        int[] edge2 = new int[]{1};\n",
    "        int[] edge3 = new int[]{1};\n",
    "        System.out.println( maximumSumIncreasingSubsequence(test1) );\n",
    "        System.out.println( maximumSumIncreasingSubsequence(test2) );\n",
    "        System.out.println( maximumSumIncreasingSubsequence(test3) );\n",
    "        System.out.println( maximumSumIncreasingSubsequence(edge1) );\n",
    "        System.out.println( maximumSumIncreasingSubsequence(edge3) );\n",
    "    }\n",
    "}\n",
    "```\n"
   ]
  },
  {
   "cell_type": "markdown",
   "metadata": {},
   "source": [
    "3 [072: Edit-Distance](https://leetcode.com/problems/edit-distance/)   使用的叫做 Wagner–Fischer algorithm."
   ]
  },
  {
   "cell_type": "markdown",
   "metadata": {},
   "source": [
    "4 [g4g 的第四题 Minimum Partition](https://www.geeksforgeeks.org/partition-a-set-into-two-subsets-such-that-the-difference-of-subset-sums-is-minimum/)    \n",
    "    在LeetCode上面有一个本质上一样的题，是个Knapsack背包问题     \n",
    "    [1049: Last-Stone-Weight-II](https://leetcode.com/problems/last-stone-weight-ii/)  \n",
    "    另外一个相似的题     \n",
    "[416: Partition-Equal-Subset-Sum](https://leetcode.com/problems/partition-equal-subset-sum/)    \n",
    "This problem is essentially let us to find whether there are several numbers in a set which are able to sum to a specific value (in this problem, the value is sum/2).     "
   ]
  },
  {
   "cell_type": "markdown",
   "metadata": {},
   "source": [
    "# O(MN) 和 O(NN) 型 dp\n",
    "\n",
    "* [718: Maximum-Length-of-Repeated-Subarray](https://leetcode.com/problems/maximum-length-of-repeated-subarray/)\n",
    "这个题和 找两个string的最长substring 一个意思。"
   ]
  },
  {
   "cell_type": "markdown",
   "metadata": {},
   "source": [
    "## 经典有点难度的 1D  dp:\n",
    "* [300: Longest-Increasing-Subsequence](https://leetcode.com/problems/longest-increasing-subsequence/)     \n",
    "它还有个 LC 没有的变种\n",
    "https://www.geeksforgeeks.org/maximum-sum-increasing-subsequence-dp-14/\n",
    "\n",
    "* [523: Continuous-Subarray-Sum](https://leetcode.com/problems/continuous-subarray-sum/) \n",
    "好难"
   ]
  },
  {
   "cell_type": "markdown",
   "metadata": {},
   "source": [
    "## 简单 Fibonacci like dp:\n",
    "* [070: Climbing-Stairs](https://leetcode.com/problems/climbing-stairs/)   高频  "
   ]
  },
  {
   "cell_type": "markdown",
   "metadata": {},
   "source": [
    "待处理\n",
    "* [053: Maximum-Subarray](https://leetcode.com/problems/maximum-subarray/) 极高频 easy\n"
   ]
  },
  {
   "cell_type": "markdown",
   "metadata": {},
   "source": [
    "这个也是一个有意思的 dp 而且简单\n",
    "* [823. Binary-Trees-With-Factors](leetCode-823-Binary-Trees-With-Factors.md)"
   ]
  },
  {
   "cell_type": "markdown",
   "metadata": {},
   "source": [
    "# 1. 时间序列型 A: 昨日或前日\n",
    "因为只需要维持至多一到两个之前的cache, 所以 空间上一般有望到 O(1). \n",
    "### House Robber \n",
    "213 比 198 更普遍适用。                 \n",
    "* [198: House-Robber](https://leetcode.com/problems/house-robber/)\n",
    "* [213: House-Robber-II](https://leetcode.com/problems/house-robber-ii/)\n",
    "\n",
    "\n",
    "256 和 265 的 dp 解法挺好的。好好想想，确实和 House Robber 有一定的相似之处。        \n",
    "* [256: Paint-House](https://leetcode.com/problems/paint-house/)\n",
    "* [265: Paint-House-II](https://leetcode.com/problems/paint-house-ii/)          \n",
    "265 至少需要能想出来 N*k*k 的解法，然后再推出一个 N*k 的解法， N*k 就是说找前一行 row 的最小和第二小的值。\n",
    "\n",
    "### Decode ways\n",
    "* [091: Decode-Ways](https://leetcode.com/problems/decode-ways/) 超高频  \n",
    "* [639: Decode-Ways-II](https://leetcode.com/problems/decode-ways-ii/)        \n"
   ]
  },
  {
   "cell_type": "markdown",
   "metadata": {},
   "source": [
    "276 绝对不简单， 它和1223是相似的。\n",
    "* [276: Paint-Fence](https://leetcode.com/problems/paint-fence/) \n",
    "* [1223: Dice-Roll-Simulation](https://leetcode.com/problems/dice-roll-simulation/)"
   ]
  },
  {
   "cell_type": "markdown",
   "metadata": {},
   "source": [
    "# 2. 时间序列型 B: 之前的所有日子\n",
    "之前的所有的cache 都是可能用到的，所以空间上起码是 O(N) \n",
    "\n",
    "* [322: Coin-Change](https://leetcode.com/problems/coin-change/)      高频  \n",
    "    top-down 和 bottom-up 都可以会，应该会\n",
    "\n",
    "* [300: Longest-Increasing-Subsequence](https://leetcode.com/problems/longest-increasing-subsequence/)     \n",
    "它还有个 LC 没有的变种 maximum sum increasing subsequence    \n",
    "https://www.geeksforgeeks.org/maximum-sum-increasing-subsequence-dp-14/     \n",
    "\n",
    "* [368: Largest-Divisible-Subset](https://leetcode.com/problems/largest-divisible-subset/)         \n",
    "### 状态数不确定\n",
    "* [403: Frog-Jump](https://leetcode.com/problems/frog-jump/)"
   ]
  },
  {
   "cell_type": "markdown",
   "metadata": {},
   "source": [
    "## 背包型：\n",
    "0-1 Knapsack Problem \n",
    "https://www.geeksforgeeks.org/0-1-knapsack-problem-dp-10/     \n",
    "\n",
    "Given weights and values of n items, put these items in a knapsack of capacity W to get the maximum total value in the knapsack. In other words, given two integer arrays val[0..n-1] and wt[0..n-1] which represent values and weights associated with n items respectively. Also given an integer W which represents knapsack capacity, find out the maximum value subset of val[] such that sum of the weights of this subset is smaller than or equal to W. You cannot break an item, either pick the complete item or don’t pick it (0-1 property).\n",
    " \n",
    "给一系列物品(价值为v，重量为w），每个物品只能用一次。背包总容量上限是C。问最大能装多少价值的东西。\n",
    "\n",
    " \n",
    "背包型: \n",
    "* [518: Coin-Change-2](https://leetcode.com/problems/coin-change-2/)    \n",
    "    518 真的好猛啊。是不一样的 dp。 我还无法分类它。说是背包型\n",
    "* [474: Ones-and-Zeroes](https://leetcode.com/problems/ones-and-zeroes/)\n",
    "\n",
    "* [343: Integer-Break](https://leetcode.com/problems/integer-break/)\n",
    "    虽然最优是数学方法，但是DP值得做一做\n",
    "* [416: Partition-Equal-Subset-Sum](https://leetcode.com/problems/partition-equal-subset-sum/)  \n",
    "* [494: Target-Sum](https://leetcode.com/problems/target-sum/)\n",
    "* [1049: Last-Stone-Weight-II](https://leetcode.com/problems/last-stone-weight-ii/)\n",
    "本题可以转化为494. target sum的进阶版：给你一个数组nums，可以在每个元素前添加正负号。问使得最后整体结果最小的正数是多少？"
   ]
  },
  {
   "cell_type": "code",
   "execution_count": null,
   "metadata": {
    "collapsed": true,
    "jupyter": {
     "outputs_hidden": true
    },
    "vscode": {
     "languageId": "java"
    }
   },
   "outputs": [],
   "source": []
  }
 ],
 "metadata": {
  "kernelspec": {
   "display_name": "Java",
   "language": "java",
   "name": "java"
  },
  "language_info": {
   "codemirror_mode": "java",
   "file_extension": ".jshell",
   "mimetype": "text/x-java-source",
   "name": "Java",
   "pygments_lexer": "java",
   "version": "17.0.1+12-LTS-39"
  }
 },
 "nbformat": 4,
 "nbformat_minor": 4
}
