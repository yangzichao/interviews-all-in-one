{
 "cells": [
  {
   "cell_type": "markdown",
   "metadata": {},
   "source": [
    "括号类 Stack 典型应用之一 20\n",
    "[020: Valid-Parentheses](https://leetcode.com/problems/valid-parentheses/)"
   ]
  },
  {
   "cell_type": "markdown",
   "metadata": {},
   "source": []
  },
  {
   "cell_type": "markdown",
   "metadata": {},
   "source": []
  },
  {
   "cell_type": "markdown",
   "metadata": {},
   "source": [
    "讨厌啊处理字符串，数字的\n",
    "* [402: Remove-K-Digits](https://leetcode.com/problems/remove-k-digits/)   "
   ]
  },
  {
   "cell_type": "markdown",
   "metadata": {},
   "source": [
    "## Monotonic Queue 单调队列/栈\n",
    "\n",
    "*  [239: Sliding-Window-Maximum](https://leetcode.com/problems/sliding-window-maximum/)\n",
    "\n",
    "单调队列最典型的题目了。\n",
    "\n",
    "```java\n",
    "class Solution {\n",
    "    public int[] maxSlidingWindow(int[] nums, int k) {\n",
    "        ArrayDeque<Integer> monoQueue = new ArrayDeque<>();\n",
    "        int[] ans = new int[nums.length - k + 1];\n",
    "        int left = 0;\n",
    "        for(int right = 0; right < nums.length; right++){\n",
    "            if( right - left + 1 > k){\n",
    "                if( monoQueue.peekFirst() == nums[left]){\n",
    "                    monoQueue.removeFirst();\n",
    "                }\n",
    "                left++;\n",
    "            }\n",
    "            while( !monoQueue.isEmpty() && monoQueue.peekLast() < nums[right]) {\n",
    "                monoQueue.removeLast();\n",
    "            }\n",
    "            monoQueue.addLast(nums[right]);\n",
    "            if( right >= k - 1){\n",
    "                ans[left] = monoQueue.peekFirst();\n",
    "            }\n",
    "        }\n",
    "        return ans;\n",
    "    }\n",
    "}\n",
    "```\n",
    "\n",
    "下面一个单调栈\n",
    "\n",
    "* [739: Daily-Temperatures](https://leetcode.com/problems/daily-temperatures/)\n",
    "\n",
    "```java\n",
    "class Solution {\n",
    "    public int[] dailyTemperatures(int[] temperatures) {\n",
    "        if(temperatures.length < 1) return new int[]{};\n",
    "        int[] ans = new int[temperatures.length];\n",
    "        ArrayDeque<Integer> monotonicStack = new ArrayDeque<>(); // store index\n",
    "        for(int i = 0; i < temperatures.length; i++){\n",
    "            if(monotonicStack.isEmpty()){\n",
    "                monotonicStack.push(i);\n",
    "                continue; // empty stack, just add it;\n",
    "            }\n",
    "            int curTemp = temperatures[i]; // curTemperature kicked out all the weak guys \n",
    "            while(!monotonicStack.isEmpty() && curTemp > temperatures[monotonicStack.peek()]){\n",
    "                int kickedOutIndex = monotonicStack.pop();\n",
    "                ans[kickedOutIndex] = i - kickedOutIndex;\n",
    "            }\n",
    "            monotonicStack.push(i);\n",
    "        }\n",
    "        return ans;\n",
    "    }\n",
    "}\n",
    "```"
   ]
  },
  {
   "cell_type": "markdown",
   "metadata": {},
   "source": [
    "### 单调队列题目 之 [剑指 Offer 59 - II. 队列的最大值 （max queue)](https://leetcode-cn.com/problems/dui-lie-de-zui-da-zhi-lcof/)\n",
    "\n",
    "请定义一个队列并实现函数 max_value 得到队列里的最大值，要求函数max_value、push_back 和 pop_front 的均摊时间复杂度都是O(1)。\n",
    "\n",
    "若队列为空，pop_front 和 max_value 需要返回 -1\n",
    "\n",
    "```java\n",
    "class MaxQueue {\n",
    "    private ArrayDeque<Integer> deque;\n",
    "    private ArrayDeque<Integer> maximums;\n",
    "\n",
    "    public MaxQueue() {\n",
    "        this.deque = new ArrayDeque();\n",
    "        this.maximums = new ArrayDeque();\n",
    "    }\n",
    "    \n",
    "    public int max_value() {\n",
    "        if(maximums.size() < 1){\n",
    "            return -1;\n",
    "        }\n",
    "        return maximums.peekFirst();\n",
    "    }\n",
    "    \n",
    "    public void push_back(int value) {\n",
    "        deque.addLast(value);\n",
    "        while( maximums.size() > 0 && maximums.peekLast() < value ){\n",
    "            maximums.removeLast();   \n",
    "        }\n",
    "        maximums.addLast(value);\n",
    "    }\n",
    "    \n",
    "    public int pop_front() {\n",
    "        if(deque.size() < 1){\n",
    "            return -1;\n",
    "        }\n",
    "        int cur = deque.removeFirst();\n",
    "        if( cur == maximums.peekFirst()){\n",
    "            maximums.removeFirst();\n",
    "        }\n",
    "        return cur;\n",
    "    }\n",
    "}\n",
    "```"
   ]
  },
  {
   "cell_type": "code",
   "execution_count": null,
   "metadata": {
    "vscode": {
     "languageId": "java"
    }
   },
   "outputs": [],
   "source": []
  }
 ],
 "metadata": {
  "kernelspec": {
   "display_name": "Java",
   "language": "java",
   "name": "java"
  },
  "language_info": {
   "codemirror_mode": "java",
   "file_extension": ".jshell",
   "mimetype": "text/x-java-source",
   "name": "Java",
   "pygments_lexer": "java",
   "version": "17.0.1+12-LTS-39"
  }
 },
 "nbformat": 4,
 "nbformat_minor": 4
}
