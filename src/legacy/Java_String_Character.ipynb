{
 "cells": [
  {
   "cell_type": "markdown",
   "metadata": {},
   "source": [
    "# 类型转换\n",
    "char[] $\\leftrightarrow$ String"
   ]
  },
  {
   "cell_type": "code",
   "execution_count": 162,
   "metadata": {
    "scrolled": true
   },
   "outputs": [
    {
     "name": "stdout",
     "output_type": "stream",
     "text": [
      "ab ab\n",
      "a b\n"
     ]
    }
   ],
   "source": [
    "char[] chars = new char[]{'a','b'};\n",
    "String str1 = new String(chars);\n",
    "String str2 = String.valueOf(chars);\n",
    "System.out.println(str1 + \" \" + str2);\n",
    "\n",
    "System.out.println(str1.toCharArray()[0] + \" \"+ str1.toCharArray()[1]);"
   ]
  },
  {
   "cell_type": "markdown",
   "metadata": {},
   "source": [
    "# 实用技巧"
   ]
  },
  {
   "cell_type": "markdown",
   "metadata": {},
   "source": [
    "#### 1 从String中删除特定字符   \n",
    "Java String 没有支持删除特定字符的功能，因此想要删掉第 i 到 j 的字符, 使用\n",
    "```java\n",
    "String newString = old.substring(0, i) + old.substring(j + 1);\n",
    "```"
   ]
  },
  {
   "cell_type": "code",
   "execution_count": 167,
   "metadata": {},
   "outputs": [
    {
     "name": "stdout",
     "output_type": "stream",
     "text": [
      "012345689\n",
      "0126789\n",
      "6789\n"
     ]
    }
   ],
   "source": [
    "String deleteI = \"0123456789\";\n",
    "String delete7 = deleteI.substring(0, 7) + deleteI.substring(7+1);\n",
    "System.out.println(delete7);\n",
    "\n",
    "String delete3To5 = deleteI.substring(0, 3) + deleteI.substring(5+1);\n",
    "System.out.println(delete3To5);\n",
    "\n",
    "String delete0To5 = deleteI.substring(0, 0) + deleteI.substring(5+1);\n",
    "System.out.println(delete0To5);"
   ]
  },
  {
   "cell_type": "markdown",
   "metadata": {},
   "source": [
    "然而，substring() 如今是 O(N)的时间复杂度，StringBuilder 的 substring() 也是 O(N)。所以要考虑清楚这种情况，如果需要频繁的改变一个String的值，需要思考是否用StringBuilder重新建一个String比较快。"
   ]
  },
  {
   "cell_type": "markdown",
   "metadata": {
    "collapsed": true
   },
   "source": [
    "# Java String 类\n",
    "java string 类有很多实用函数。"
   ]
  },
  {
   "cell_type": "markdown",
   "metadata": {},
   "source": [
    "## 基础的\n",
    ".length() 给出长度"
   ]
  },
  {
   "cell_type": "code",
   "execution_count": 168,
   "metadata": {},
   "outputs": [
    {
     "data": {
      "text/plain": [
       "10"
      ]
     },
     "execution_count": 168,
     "metadata": {},
     "output_type": "execute_result"
    }
   ],
   "source": [
    "String length = \"0123456789\";\n",
    "length.length();\n",
    "\n"
   ]
  },
  {
   "cell_type": "markdown",
   "metadata": {},
   "source": [
    "## Char相关\n",
    "* .charAt(int index). 取特定位置char    \n",
    "* .toCharArray(). 返回一个 char[]. 比较适合for遍历String for(char c : S.toCharArray())。"
   ]
  },
  {
   "cell_type": "markdown",
   "metadata": {},
   "source": [
    "* .split(分隔符, 分隔的份数)    \n",
    "如果不填分隔的份数，默认分隔所有。"
   ]
  },
  {
   "cell_type": "code",
   "execution_count": 105,
   "metadata": {},
   "outputs": [
    {
     "name": "stdout",
     "output_type": "stream",
     "text": [
      "One:\n",
      "1\n",
      "2\n",
      "3\n",
      "4\n",
      "5\n",
      "6\n",
      "7\n",
      "Two:\n",
      "1\n",
      " \n",
      "2\n",
      " \n",
      "3\n",
      " \n",
      "4\n",
      " \n",
      "5\n",
      " \n",
      "6\n",
      " \n",
      "7\n",
      "Three:\n",
      "1\n",
      "2 3 4 5 6 7\n"
     ]
    }
   ],
   "source": [
    "String split = \"1 2 3 4 5 6 7\";\n",
    "String[] splitted1 = split.split(\" \");\n",
    "String[] splitted2 = split.split(\"\");\n",
    "String[] splitted3 = split.split(\" \", 2);\n",
    "\n",
    "System.out.println(\"One:\");\n",
    "for(String str : splitted1){\n",
    "    System.out.println(str);\n",
    "}\n",
    "\n",
    "System.out.println(\"Two:\");\n",
    "for(String str : splitted2){\n",
    "    System.out.println(str);\n",
    "}\n",
    "\n",
    "System.out.println(\"Three:\");\n",
    "for(String str : splitted3){\n",
    "    System.out.println(str);\n",
    "}"
   ]
  },
  {
   "cell_type": "markdown",
   "metadata": {
    "collapsed": true
   },
   "source": [
    "## Prefix Suffix \n",
    ".endsWith(String suffix);  \n",
    ".startsWith(String prefix, int index);"
   ]
  },
  {
   "cell_type": "code",
   "execution_count": 173,
   "metadata": {},
   "outputs": [
    {
     "name": "stdout",
     "output_type": "stream",
     "text": [
      "true\n",
      "true\n",
      "false\n",
      "true\n"
     ]
    }
   ],
   "source": [
    "String checkSuffix = \"ThisIsSuffix\";\n",
    "System.out.println(checkSuffix.endsWith(\"Suffix\"));\n",
    "\n",
    "String checkPrefix = \"GoodPrefix\";\n",
    "System.out.println(checkPrefix.startsWith(\"Prefix\",4));\n",
    "System.out.println(checkPrefix.startsWith(\"Prefix\",0));\n",
    "System.out.println(checkPrefix.startsWith(\"Goo\",0));"
   ]
  },
  {
   "cell_type": "markdown",
   "metadata": {},
   "source": [
    "# Java Character 类"
   ]
  },
  {
   "cell_type": "markdown",
   "metadata": {},
   "source": [
    "Character.isLetter()    \n",
    "Character.isDigit()      \n",
    "Character.isWhitespace()    \n",
    "Character.isUpperCase()    \n",
    "Character.isLowerCase()    \n",
    "Character.toUpperCase()   \n",
    "Character.toLowerCase()    "
   ]
  },
  {
   "cell_type": "code",
   "execution_count": 64,
   "metadata": {
    "collapsed": true
   },
   "outputs": [],
   "source": [
    "char a = 'a';\n",
    "char A = 'A';\n",
    "char one = '1';\n",
    "char whitespace = ' ';"
   ]
  },
  {
   "cell_type": "code",
   "execution_count": 65,
   "metadata": {},
   "outputs": [
    {
     "data": {
      "text/plain": [
       "true"
      ]
     },
     "execution_count": 65,
     "metadata": {},
     "output_type": "execute_result"
    }
   ],
   "source": [
    "Character.isLetter(a);"
   ]
  },
  {
   "cell_type": "code",
   "execution_count": 66,
   "metadata": {},
   "outputs": [
    {
     "data": {
      "text/plain": [
       "true"
      ]
     },
     "execution_count": 66,
     "metadata": {},
     "output_type": "execute_result"
    }
   ],
   "source": [
    "Character.isDigit(one);"
   ]
  },
  {
   "cell_type": "code",
   "execution_count": 67,
   "metadata": {},
   "outputs": [
    {
     "data": {
      "text/plain": [
       "true"
      ]
     },
     "execution_count": 67,
     "metadata": {},
     "output_type": "execute_result"
    }
   ],
   "source": [
    "Character.isWhitespace(whitespace);"
   ]
  },
  {
   "cell_type": "code",
   "execution_count": 68,
   "metadata": {},
   "outputs": [
    {
     "data": {
      "text/plain": [
       "true"
      ]
     },
     "execution_count": 68,
     "metadata": {},
     "output_type": "execute_result"
    }
   ],
   "source": [
    "Character.isUpperCase(A);"
   ]
  },
  {
   "cell_type": "code",
   "execution_count": 69,
   "metadata": {},
   "outputs": [
    {
     "data": {
      "text/plain": [
       "true"
      ]
     },
     "execution_count": 69,
     "metadata": {},
     "output_type": "execute_result"
    }
   ],
   "source": [
    "Character.isLowerCase(a);"
   ]
  },
  {
   "cell_type": "code",
   "execution_count": 70,
   "metadata": {},
   "outputs": [
    {
     "data": {
      "text/plain": [
       "A"
      ]
     },
     "execution_count": 70,
     "metadata": {},
     "output_type": "execute_result"
    }
   ],
   "source": [
    "Character.toUpperCase(a);"
   ]
  },
  {
   "cell_type": "code",
   "execution_count": 71,
   "metadata": {},
   "outputs": [
    {
     "data": {
      "text/plain": [
       "a"
      ]
     },
     "execution_count": 71,
     "metadata": {},
     "output_type": "execute_result"
    }
   ],
   "source": [
    "Character.toLowerCase(A);"
   ]
  },
  {
   "cell_type": "markdown",
   "metadata": {},
   "source": [
    "字符比较大小。 char 作为 primitive type，不具有compareTo.   \n",
    "如果想要比较字符，需要是 Character 类的字符，否则会报错，例如"
   ]
  },
  {
   "cell_type": "code",
   "execution_count": 72,
   "metadata": {},
   "outputs": [
    {
     "ename": "CompilationException",
     "evalue": "",
     "output_type": "error",
     "traceback": [
      "\u001b[1m\u001b[30m|   \u001b[1m\u001b[30m\u001b[0m\u001b[1m\u001b[30m\u001b[41ma.compareTo\u001b[0m\u001b[1m\u001b[30m(A);\u001b[0m",
      "\u001b[1m\u001b[31mchar cannot be dereferenced\u001b[0m",
      ""
     ]
    }
   ],
   "source": [
    "a.compareTo(A);"
   ]
  },
  {
   "cell_type": "code",
   "execution_count": 73,
   "metadata": {},
   "outputs": [
    {
     "data": {
      "text/plain": [
       "32"
      ]
     },
     "execution_count": 73,
     "metadata": {},
     "output_type": "execute_result"
    }
   ],
   "source": [
    "Character ca = 'a';\n",
    "ca.compareTo(A)"
   ]
  },
  {
   "cell_type": "markdown",
   "metadata": {},
   "source": [
    "实际上不需要这么复杂，可以直接比较。例如："
   ]
  },
  {
   "cell_type": "code",
   "execution_count": 74,
   "metadata": {},
   "outputs": [
    {
     "data": {
      "text/plain": [
       "32"
      ]
     },
     "execution_count": 74,
     "metadata": {},
     "output_type": "execute_result"
    }
   ],
   "source": [
    "a - A"
   ]
  },
  {
   "cell_type": "code",
   "execution_count": 75,
   "metadata": {},
   "outputs": [
    {
     "data": {
      "text/plain": [
       "-32"
      ]
     },
     "execution_count": 75,
     "metadata": {},
     "output_type": "execute_result"
    }
   ],
   "source": [
    "A - a"
   ]
  },
  {
   "cell_type": "code",
   "execution_count": 76,
   "metadata": {},
   "outputs": [
    {
     "data": {
      "text/plain": [
       "false"
      ]
     },
     "execution_count": 76,
     "metadata": {},
     "output_type": "execute_result"
    }
   ],
   "source": [
    "a < A"
   ]
  },
  {
   "cell_type": "code",
   "execution_count": 77,
   "metadata": {},
   "outputs": [
    {
     "data": {
      "text/plain": [
       "0"
      ]
     },
     "execution_count": 77,
     "metadata": {},
     "output_type": "execute_result"
    }
   ],
   "source": [
    "a - 'a'"
   ]
  },
  {
   "cell_type": "code",
   "execution_count": null,
   "metadata": {
    "collapsed": true
   },
   "outputs": [],
   "source": []
  },
  {
   "cell_type": "code",
   "execution_count": 144,
   "metadata": {
    "collapsed": true
   },
   "outputs": [],
   "source": [
    "String test = \"abc\";"
   ]
  },
  {
   "cell_type": "code",
   "execution_count": 154,
   "metadata": {
    "collapsed": true
   },
   "outputs": [],
   "source": [
    "String[] a = test.split(\"-\", 100);"
   ]
  },
  {
   "cell_type": "code",
   "execution_count": 155,
   "metadata": {},
   "outputs": [
    {
     "name": "stdout",
     "output_type": "stream",
     "text": [
      "abc\n"
     ]
    }
   ],
   "source": [
    "for(String s: a){\n",
    " System.out.println(s);\n",
    "}"
   ]
  },
  {
   "cell_type": "code",
   "execution_count": 161,
   "metadata": {},
   "outputs": [
    {
     "data": {
      "text/plain": [
       "bc"
      ]
     },
     "execution_count": 161,
     "metadata": {},
     "output_type": "execute_result"
    }
   ],
   "source": [
    "test.substring(1,3)"
   ]
  },
  {
   "cell_type": "markdown",
   "metadata": {
    "collapsed": true
   },
   "source": [
    "# Java StringBuilder 类"
   ]
  },
  {
   "cell_type": "code",
   "execution_count": null,
   "metadata": {
    "collapsed": true
   },
   "outputs": [],
   "source": []
  }
 ],
 "metadata": {
  "kernelspec": {
   "display_name": "Java",
   "language": "java",
   "name": "java"
  },
  "language_info": {
   "codemirror_mode": "java",
   "file_extension": ".jshell",
   "mimetype": "text/x-java-source",
   "name": "Java",
   "pygments_lexer": "java",
   "version": "12.0.1+12"
  }
 },
 "nbformat": 4,
 "nbformat_minor": 2
}
