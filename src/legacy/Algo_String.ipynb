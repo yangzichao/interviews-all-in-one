{
 "cells": [
  {
   "cell_type": "markdown",
   "metadata": {},
   "source": [
    "## RegExr 类题目\n",
    "* [722: Remove-Comments](https://leetcode.com/problems/remove-comments/)\n",
    "* [006: ZigZag-Conversion](https://leetcode.com/problems/zigzag-conversion/)\n"
   ]
  },
  {
   "cell_type": "markdown",
   "metadata": {},
   "source": [
    "# 5.1 字符串排序\n",
    "利用字符串的特殊性质将字符串排序，它们将比通用的排序方法效率更高。"
   ]
  },
  {
   "cell_type": "markdown",
   "metadata": {},
   "source": [
    "#### 第一类方法\n",
    "从右到左：低位优先 Least-Significant-Digit First (LSD)\n",
    "最适用于键到长度都相同的字符串排序。\n",
    "#### 第二类方法\n",
    "从左到右：高位优先 Most-Significant-Digit First (MSD)\n",
    "优势在于，不一定需要检查所有的输入就能完成排序。"
   ]
  },
  {
   "cell_type": "markdown",
   "metadata": {},
   "source": [
    "## 5.1.1 Key-Indexed Counting 键索引计数法\n",
    "又称 Counting Sort.\n",
    "Both Time Complexity and Space Complexity are O(N).  \n",
    "\n",
    "适用范围：  \n",
    "待排列元素标记有小整数键。例如，把班里的学生是分成5组的，对他们按组分开，但是不改变他们的相对位置。\n",
    "\n",
    "优势和特点：   \n",
    "Key-Indexed Counting 已经突破了 NlogN 排序算法的运行时间下限。这是它的主要优势。原因是不需要改变\n",
    "同组的相对位置。并且所有的元素都维护了等键元素的相对位置。\n",
    "\n",
    "实战应用：    \n",
    "无。主要用来理解LSD和MSD。\n",
    "\n",
    "动画：\n",
    "https://www.cs.usfca.edu/~galles/visualization/CountingSort.html\n",
    "\n",
    "下面是一个简单的例子"
   ]
  },
  {
   "cell_type": "code",
   "execution_count": 51,
   "metadata": {},
   "outputs": [
    {
     "name": "stdout",
     "output_type": "stream",
     "text": [
      "Harris\n",
      "Anderson\n",
      "Brown\n",
      "Davis\n",
      "Garcia\n"
     ]
    }
   ],
   "source": [
    "Map<String, Integer> names = new HashMap<>();\n",
    "names.put(\"Anderson\",2); names.put(\"Brown\",3); names.put(\"Davis\",3); names.put(\"Garcia\",4); names.put(\"Harris\",1);\n",
    "\n",
    "// 这个原理就是，先统计每组的频数，顺手把组给排序了。\n",
    "// 然后我们就知道每一组应该从哪个index开始放元素。此时我们就可以把元素按照组数直接取到对应的位置，非常简单。\n",
    "\n",
    "int N = names.size();\n",
    "int R = 5;\n",
    "\n",
    "String[] aux = new String[N];\n",
    "int[] count = new int[R+1];\n",
    "\n",
    "for (String key : names.keySet()){\n",
    "    count[names.get(key) + 1]++;\n",
    "}\n",
    "\n",
    "for(int r = 0; r < R; r++){\n",
    "    count[r+1]+= count[r];\n",
    "}\n",
    "\n",
    "for(String key : names.keySet()){\n",
    "    int index = count[names.get(key)]++;\n",
    "    aux[index] = key;\n",
    "}\n",
    "\n",
    "for(int i = 0; i < N; i++){\n",
    "    System.out.println(aux[i]);\n",
    "}"
   ]
  },
  {
   "cell_type": "markdown",
   "metadata": {},
   "source": [
    "例题也不是没有，[791](leetCode-791-Custom-Sort-String.md)\n",
    "就可以用这个方法做。但是比较麻烦。"
   ]
  },
  {
   "cell_type": "markdown",
   "metadata": {},
   "source": [
    "## 5.1.2 Least-Significant-Digit radix sort 低位优先的字符串排序    \n",
    "对于基于R个字母表的N个定长W的字符串，LSD radix sort 能够稳定的将定长字符串排序。\n",
    "O(NW) O(N +R),对于比较短的字符串，如W = 3， 这近似于 O(N)，因而优于一般的NlogN.      \n",
    "LSD的有效是通过 key-indexed counting 不改变同键的相对顺序保证的。\n",
    "证明有很多，比如:  \n",
    "如果有两个键，它们没有被检查过的都是完全相同的，那么不同之处已经被排序，并由于上述的原因\n",
    "始终保持有序。如果没有被检查过的内容是不一样的，那么已排序的部分对最终顺序没有意义。\n",
    "\n",
    "\n",
    "N: 待排序的元素总数。     \n",
    "R: 字母表元素数，如小写字母 R = 26，ASCII 是 128，扩展ASCII是256.  \n",
    "W: 每个元素需要排序的位数。\n",
    "aux[] 是 N 个。    \n",
    "count[] 是 R + 1 个，多一个是为了方便。    \n",
    "key-indexed counting 可以视作是W=1的 特殊情况。  \n",
    "\n"
   ]
  },
  {
   "cell_type": "code",
   "execution_count": 52,
   "metadata": {
    "collapsed": true,
    "jupyter": {
     "outputs_hidden": true
    }
   },
   "outputs": [],
   "source": [
    "String[] testData = new String[]{\"4PGC938\",\"2IYE230\",\"3CI0720\",\"1ICK750\",\"1OHV845\",\"4JZY524\",\"1ICK750\",\"3CI0720\", \"1OHV845\",\"1OHV845\", \"2RLA629\",\"2RLA629\",\"3ATW723\" };\n",
    "int testW = 7; // Sort as last 7 digits."
   ]
  },
  {
   "cell_type": "code",
   "execution_count": 53,
   "metadata": {
    "collapsed": true,
    "jupyter": {
     "outputs_hidden": true
    }
   },
   "outputs": [],
   "source": [
    "public static void LSDRadixSort(String[] a, int W){\n",
    "    int N = a.length;\n",
    "    int R = 256; // ASCII\n",
    "    String[] aux = new String[N];\n",
    "    \n",
    "    for(int d = W - 1; d >= 0; d--){\n",
    "        // Do key-indexed Counting W times.\n",
    "        int[] count = new int[R+1];\n",
    "        for(int i = 0; i < N; i++){\n",
    "            count[a[i].charAt(d) + 1]++;\n",
    "        }\n",
    "        \n",
    "        for(int r = 0; r < R; r++){\n",
    "            count[r+1] += count[r];\n",
    "        }\n",
    "        \n",
    "        for(int i = 0; i < N; i++){\n",
    "            aux[ count[a[i].charAt(d)]++ ] = a[i];\n",
    "        }\n",
    "        \n",
    "        for(int i = 0; i < N; i++){\n",
    "            a[i] = aux[i];\n",
    "        }\n",
    "    }\n",
    "}"
   ]
  },
  {
   "cell_type": "code",
   "execution_count": 54,
   "metadata": {
    "collapsed": true,
    "jupyter": {
     "outputs_hidden": true
    }
   },
   "outputs": [],
   "source": [
    "LSDRadixSort(testData, testW)"
   ]
  },
  {
   "cell_type": "code",
   "execution_count": 55,
   "metadata": {},
   "outputs": [
    {
     "name": "stdout",
     "output_type": "stream",
     "text": [
      "1ICK750\n",
      "1ICK750\n",
      "1OHV845\n",
      "1OHV845\n",
      "1OHV845\n",
      "2IYE230\n",
      "2RLA629\n",
      "2RLA629\n",
      "3ATW723\n",
      "3CI0720\n",
      "3CI0720\n",
      "4JZY524\n",
      "4PGC938\n"
     ]
    }
   ],
   "source": [
    "for(String str : testData){\n",
    "    System.out.println(str);\n",
    "}"
   ]
  },
  {
   "cell_type": "markdown",
   "metadata": {},
   "source": [
    "## 5.1.3 Most-Significant-Digit radix sort 低位优先的字符串排序    \n",
    "这是一个可以处理字符串长度不同的算法。"
   ]
  },
  {
   "cell_type": "markdown",
   "metadata": {},
   "source": []
  },
  {
   "cell_type": "markdown",
   "metadata": {},
   "source": [
    "# 5.2 Trie 单词查找树"
   ]
  },
  {
   "cell_type": "code",
   "execution_count": null,
   "metadata": {
    "collapsed": true,
    "jupyter": {
     "outputs_hidden": true
    }
   },
   "outputs": [],
   "source": []
  }
 ],
 "metadata": {
  "kernelspec": {
   "display_name": "Java",
   "language": "java",
   "name": "java"
  },
  "language_info": {
   "codemirror_mode": "java",
   "file_extension": ".jshell",
   "mimetype": "text/x-java-source",
   "name": "Java",
   "pygments_lexer": "java",
   "version": "17.0.1+12-LTS-39"
  }
 },
 "nbformat": 4,
 "nbformat_minor": 4
}
