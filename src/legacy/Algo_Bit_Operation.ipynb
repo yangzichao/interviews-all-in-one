{
 "cells": [
  {
   "cell_type": "code",
   "execution_count": 39,
   "metadata": {},
   "outputs": [],
   "source": [
    "public String printBinary(int n){\n",
    "    String originalIngeterStr = String.valueOf(n);\n",
    "    String binaryString = Integer.toBinaryString(n);\n",
    "    String str = \"Original int: \" + originalIngeterStr + \", Binary string: \" + binaryString;\n",
    "    System.out.println(str);\n",
    "    return str;\n",
    "}\n",
    "\n",
    "// public int getDecimal(String binaryString){\n",
    "//     int n = Integer.parseInt(binaryString, 2);\n",
    "//     System.out.println(n);\n",
    "//     return n;\n",
    "// }"
   ]
  },
  {
   "cell_type": "markdown",
   "metadata": {},
   "source": [
    "<p>\n",
    "1. << : left shift operator 左移运算符，num << 1,相当于num乘以2  低位补0   <br/>\n",
    "2. >> : right shift operator右移运算符，num >> 1,对于正数相当于num/2，对于负数相当于 (num - 1)/2  高位补符号，正数补0，负数补1   <br/>\n",
    "3. >>> : Unsigned right shift 无符号右移，忽略符号位，空位都以0补齐。对于正数, >>> 和 >> 效果一样都是补0          <br/>\n",
    "</p>"
   ]
  },
  {
   "cell_type": "markdown",
   "metadata": {},
   "source": [
    "Java 中没有无符号的数字。  \n",
    "比如Integer，用 0 到 01111...1 表示 非负数，一共2^31个，范围是0到2^31 -1.    \n",
    "而负数则是以1开头，并且从11111...1到10000..0,范围是从 -1 到 -2^31. 当然这样也很科学，毕竟是越来越小的。    \n",
    "其中一个特性就是如果超过范围了，符号会改变。  \n",
    "MAX_VALUE = 2^31 - 1,  \n",
    "MIN_VALUE = - 2^31.\n",
    "无论是 max overflow 还是 min overflow，在一次操作内只会flip一次符号。\n"
   ]
  },
  {
   "cell_type": "code",
   "execution_count": 55,
   "metadata": {},
   "outputs": [
    {
     "name": "stdout",
     "output_type": "stream",
     "text": [
      "Original int: 0, Binary string: 0\n",
      "Original int: -1, Binary string: 11111111111111111111111111111111\n",
      "Original int: 2147483647, Binary string: 1111111111111111111111111111111\n",
      "Original int: -2147483648, Binary string: 10000000000000000000000000000000\n",
      "=== max value + 1 = min value, min value - 1 = max value ===\n",
      "Original int: -2147483648, Binary string: 10000000000000000000000000000000\n",
      "Original int: 2147483647, Binary string: 1111111111111111111111111111111\n",
      "Original int: -2, Binary string: 11111111111111111111111111111110\n",
      "Original int: -1, Binary string: 11111111111111111111111111111111\n",
      "Original int: 0, Binary string: 0\n",
      "Original int: 0, Binary string: 0\n"
     ]
    },
    {
     "data": {
      "text/plain": [
       "Original int: 0, Binary string: 0"
      ]
     },
     "execution_count": 55,
     "metadata": {},
     "output_type": "execute_result"
    }
   ],
   "source": [
    "printBinary(0); \n",
    "printBinary(-1);\n",
    "printBinary(Integer.MAX_VALUE);\n",
    "printBinary(Integer.MIN_VALUE);\n",
    "System.out.println(\"=== max value + 1 = min value, min value - 1 = max value ===\");\n",
    "printBinary(Integer.MAX_VALUE + 1);\n",
    "printBinary(Integer.MIN_VALUE - 1);\n",
    "printBinary(Integer.MAX_VALUE + Integer.MAX_VALUE);\n",
    "printBinary(Integer.MAX_VALUE - Integer.MIN_VALUE);\n",
    "printBinary(Integer.MIN_VALUE + Integer.MIN_VALUE);\n",
    "printBinary(Integer.MIN_VALUE - Integer.MIN_VALUE);"
   ]
  },
  {
   "cell_type": "code",
   "execution_count": 16,
   "metadata": {},
   "outputs": [
    {
     "name": "stdout",
     "output_type": "stream",
     "text": [
      "11111111111111111111111111110101\n",
      "11111111111111111111111111111110\n",
      "11111111111111111111111111110\n",
      "-6\n",
      "5\n",
      "5\n",
      "2147483642\n"
     ]
    }
   ],
   "source": [
    "printBinary( -11  );\n",
    "printBinary( -11 >> 3 ); // 补符号，移号补1\n",
    "printBinary( -11 >>> 3 ); // 移动缺位都补的0\n",
    "System.out.println( -11 >> 1); // >> 1 对于负数相当于 (num - 1)/2 \n",
    "System.out.println(  11 >> 1); // >> 1 对于正数相当于  num /2 或者 (num + 1)/2 \n",
    "System.out.println(  11 >>> 1); // 对于负数 >>> 效果和 >> 等同\n",
    "System.out.println( -11 >>> 1); // 对于负数 >>> 不能和 >> 等同"
   ]
  },
  {
   "cell_type": "markdown",
   "metadata": {},
   "source": [
    "<p>\n",
    "4. % : 模运算 取余\t\t\t\t\t\t\t\t\t\t\t\t\t\t\t\t\t<br/>\n",
    "5. ^ : 位异或 第一个操作数的的第n位 与 第二个操作数的第n位相反，那么结果的第n为也为1，否则为0 <br/>\n",
    "6. & : 与运算 第一个操作数的的第n位 与 第二个操作数的第n位如果都是1，那么结果的第n为也为1，否则为0 <br/>\n",
    "7. | : 或运算 第一个操作数的的第n位 与 第二个操作数的第n位 只要有一个是1，那么结果的第n为也为1，否则为0 <br/>\n",
    "8. ~ : 非运算 (NOT) 操作数的第n位为1，那么结果的第n位为0，以此类推，也就是取反运算。它是一元操作符：即只操作一个数。 ～x 等于 -x - 1 <br/>\n",
    "</p>"
   ]
  },
  {
   "cell_type": "code",
   "execution_count": 27,
   "metadata": {},
   "outputs": [
    {
     "name": "stdout",
     "output_type": "stream",
     "text": [
      "测试一元位操作非运算～：bitwise operator NOT. ～x 等于 -x - 1\n",
      "120\n",
      "1111000\n",
      "-121\n",
      "11111111111111111111111110000111\n",
      "测试负数\n",
      "-120\n",
      "11111111111111111111111110001000\n",
      "119\n",
      "1110111\n"
     ]
    },
    {
     "data": {
      "text/plain": [
       "1110111"
      ]
     },
     "execution_count": 27,
     "metadata": {},
     "output_type": "execute_result"
    }
   ],
   "source": [
    "System.out.println(\"测试一元位操作非运算～：bitwise operator NOT. ～x 等于 -x - 1\");\n",
    "int testNOT = 120;\n",
    "System.out.println(testNOT);\n",
    "printBinary(testNOT);\n",
    "System.out.println(~testNOT);\n",
    "printBinary(~testNOT);\n",
    "\n",
    "System.out.println(\"测试负数\");\n",
    "\n",
    "int testNOT2 = -120;\n",
    "System.out.println(testNOT2);\n",
    "printBinary(testNOT2);\n",
    "System.out.println(~testNOT2);\n",
    "printBinary(~testNOT2);"
   ]
  },
  {
   "cell_type": "markdown",
   "metadata": {},
   "source": [
    "### Bitwise 不用加减乘除做加法\n",
    "[371: Sum-of-Two-Integers](https://leetcode.com/problems/sum-of-two-integers/)\n",
    "同时这个题也是: [力扣-剑指offer原题](https://leetcode-cn.com/problems/bu-yong-jia-jian-cheng-chu-zuo-jia-fa-lcof/)    \n",
    "^ 亦或 ----相当于 无进位的求和， 想象10进制下的模拟情况：（如:19+1=20；无进位求和就是10，而非20；因为它不管进位情况）\n",
    "    而对于一个二进制串，由于 0^1, 1^0 == 1; 1^1, 0^0 == 0. 所以 ^ 刚好模拟了 1 + 1, 1 + 0, 0 + 0.\n",
    "\n",
    "& 与 ----相当于求每位的进位数， 先看定义：1&1=1；1&0=0；0&0=0；即都为1的时候才为1，正好可以模拟进位数的情况,还是想象10进制下模拟情况：（9+1=10，如果是用&的思路来处理，则9+1得到的进位数为1，而不是10，所以要用 << 1向左再移动一位，这样就变为10了）；\n",
    "\n",
    "\n",
    "这样公式就是：（a^b) + ( (a&b) << 1 )即：每次无进位求 + 每次得到的进位数--------我们需要不断重复这个过程，直到进位数为0为止；\n",
    "\n",
    "为什么要重复这个过程？因为我们每次想做的就是，计算出 （a^b) 和 (a&b) << 1 的和。但是我们又不能用加法，所以只能不断重复这个过程，   \n",
    "把（a^b) 和 (a&b) << 1 当作 两个新的数相加，直到没有进位为止。  \n",
    "\n",
    "\n",
    "```java\n",
    "public int add(int a, int b) {\n",
    "    while(b != 0){\n",
    "        int carry = (a&b) << 1;\n",
    "        a ^= b;\n",
    "        b = carry;\n",
    "    }\n",
    "    return a;\n",
    "}\n",
    "```"
   ]
  },
  {
   "cell_type": "markdown",
   "metadata": {},
   "source": [
    "## Bitwise 做除法\n",
    "* [029. Divide-Two-Integers](leetCode-029-Divide-Two-Integers.md)\n",
    "```java\n",
    "class Solution {\n",
    "    public int divide(int dividend, int divisor) {\n",
    "        // 这个题有诸多方法，但是这个方法是最好的应该\n",
    "        // 想像一下十进制的除法怎么做的？\n",
    "        // 比如 34 / 3  = 11;\n",
    "        // 我们 3*10 / 3 = 1*10\n",
    "        // 然后 （34 - 30）/ 3 = 4 / 3 = 1\n",
    "        // 答案 是 1*10 + 1 = 11;\n",
    "        // 再来一个 74/3 = 24；\n",
    "        // 7*10/3 = 2*10\n",
    "        // (74 - 3*2*10)/3 = 14/3\n",
    "        // 1*10 / 3 = 0*10\n",
    "        // 14/3 = 4;\n",
    "        \n",
    "        // 我们把 dividend 和 divisor 全部用 二进制表示 做除法实际上是一样的步骤\n",
    "        \n",
    "        if( dividend == Integer.MIN_VALUE && divisor == -1){\n",
    "            return Integer.MAX_VALUE;\n",
    "        }\n",
    "        boolean isNegative = ( dividend > 0 ) ^ ( divisor > 0);\n",
    "        dividend = Math.abs(dividend);\n",
    "        divisor = Math.abs(divisor);\n",
    "        int quotient = 0;\n",
    "        for(int i = 31; i >= 0; i--){\n",
    "            if( (dividend >>> i) - divisor >= 0 ){\n",
    "                quotient += 1 << i;\n",
    "                dividend -= divisor << i;\n",
    "            }\n",
    "        }\n",
    "         \n",
    "        return isNegative ? -quotient : quotient;\n",
    "    }\n",
    "}\n",
    "```"
   ]
  },
  {
   "cell_type": "markdown",
   "metadata": {},
   "source": [
    "## 纯考 Bitwise 的系列题目 Single Numbers\n",
    "这三个题太好了！刷熟练。\n",
    "\n",
    "代码笔记: \n",
    "* [136. Single-Number](leetCode-136-Single-Number.md)\n",
    "* [137. Single-Number-II](leetCode-137-Single-Number-II.md)\n",
    "* [260. Single-Number-III](leetCode-260-Single-Number-III.md)\n",
    "\n",
    "题目：\n",
    "* [136: Single-Number](https://leetcode.com/problems/single-number/)  \n",
    "* [137: Single-Number-II](https://leetcode.com/problems/single-number-ii/)   \n",
    "* [260: Single-Number-III](https://leetcode.com/problems/single-number-iii/)     \n",
    "\n",
    "137, 260 用HashMap或者是排序的方法都很平庸，必须要能意识到用 bitwise operation 才能过关。"
   ]
  },
  {
   "cell_type": "markdown",
   "metadata": {},
   "source": [
    "* [191: Number-of-1-Bits](https://leetcode.com/problems/number-of-1-bits/)"
   ]
  },
  {
   "cell_type": "markdown",
   "metadata": {},
   "source": [
    "这个也是利用了 XOR : a^a = 0 的性质。\n",
    "* [268: Missing-Number](https://leetcode.com/problems/missing-number/)"
   ]
  },
  {
   "cell_type": "markdown",
   "metadata": {},
   "source": [
    "[190: Reverse-Bits](https://leetcode.com/problems/reverse-bits/)\n",
    "190 一个简单的用bit << >>> 的题目"
   ]
  }
 ],
 "metadata": {
  "kernelspec": {
   "display_name": "Java",
   "language": "java",
   "name": "java"
  },
  "language_info": {
   "codemirror_mode": "java",
   "file_extension": ".jshell",
   "mimetype": "text/x-java-source",
   "name": "Java",
   "pygments_lexer": "java",
   "version": "17.0.1+12-LTS-39"
  }
 },
 "nbformat": 4,
 "nbformat_minor": 4
}
