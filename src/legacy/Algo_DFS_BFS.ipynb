{
  "cells": [
    {
      "cell_type": "markdown",
      "metadata": {
        "tags": []
      },
      "source": [
        "# 矩阵类 DFS/BFS\n",
        "题目描述，问题基于一个矩阵，该矩阵从某一点出发，只可以在上下，左右，这两对中各选一个方向移动。即只能向下向右，或者向上向右移动等等。    \n",
        "这类问题的矩阵可以看作是一种二叉树的结构。   "
      ]
    },
    {
      "cell_type": "markdown",
      "metadata": {},
      "source": [
        "[064: Minimum-Path-Sum](https://leetcode.com/problems/minimum-path-sum/) 是一个"
      ]
    },
    {
      "cell_type": "markdown",
      "metadata": {},
      "source": [
        "对于一个矩阵，可以往上下左右四个方向移动"
      ]
    },
    {
      "cell_type": "markdown",
      "metadata": {},
      "source": [
        "[200: Number-of-Islands](https://leetcode.com/problems/number-of-islands/) 可能是最典型的此类题目了。请一定先把这个题的解法和代码都研究透彻。"
      ]
    },
    {
      "cell_type": "markdown",
      "metadata": {},
      "source": [
        "* [542: 01-Matrix](https://leetcode.com/problems/01-matrix/) 这个题很不戳哦"
      ]
    },
    {
      "cell_type": "markdown",
      "metadata": {},
      "source": []
    },
    {
      "cell_type": "markdown",
      "metadata": {},
      "source": [
        "[994: Rotting-Oranges](https://leetcode.com/problems/rotting-oranges/)\n",
        "[417: Pacific-Atlantic-Water-Flow](https://leetcode.com/problems/pacific-atlantic-water-flow/) \n",
        "[1730: Shortest-Path-to-Get-Food](https://leetcode.com/problems/shortest-path-to-get-food/)\n",
        "\n",
        "694: 不错 https://leetcode.com/problems/number-of-distinct-islands/\n",
        "\n",
        "一个秒杀题目：\n",
        "695 https://leetcode.com/problems/max-area-of-island/description/"
      ]
    },
    {
      "cell_type": "markdown",
      "metadata": {},
      "source": [
        "一些很不错的题，\n",
        "818 https://leetcode.com/problems/race-car/description/"
      ]
    }
  ],
  "metadata": {
    "kernelspec": {
      "display_name": "Java",
      "language": "java",
      "name": "java"
    },
    "language_info": {
      "codemirror_mode": "java",
      "file_extension": ".jshell",
      "mimetype": "text/x-java-source",
      "name": "Java",
      "pygments_lexer": "java",
      "version": "17.0.1+12-LTS-39"
    }
  },
  "nbformat": 4,
  "nbformat_minor": 4
}
