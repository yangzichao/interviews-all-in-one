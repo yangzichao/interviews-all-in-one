{
  "cells": [
    {
      "attachments": {},
      "cell_type": "markdown",
      "id": "06fc97eb-8181-484c-9743-f6ec740591dd",
      "metadata": {
        "tags": []
      },
      "source": [
        "# 拓扑排序\n",
        "\n",
        "典型题目： \n",
        "[210: Course-Schedule-II](https://leetcode.com/problems/course-schedule-ii/)\n",
        "\n",
        "好题目：\n",
        "* [310: Minimum-Height-Trees](https://leetcode.com/problems/minimum-height-trees/)\n",
        "* [2115](https://leetcode.com/problems/find-all-possible-recipes-from-given-supplies/description/)\n",
        "\n",
        "其他：\n"
      ]
    },
    {
      "cell_type": "markdown",
      "id": "36b1e465-8bcd-4133-b0ad-25e2183c2dab",
      "metadata": {},
      "source": [
        "## 算法\n",
        "基于 BFS 的 Kahn's 算法 和 基于DFS的有向图找环算法。    \n",
        "其中卡恩算法更为直观并且流行，好处还可能有更好解释算法，可以简单的修改以用来解决别的问题。  \n",
        "DFS的算法优势就是可以更快的判断是否有环。缺点是，首先需要证明reverse postorder 是 topological order, 这就不容易了。      \n",
        "\n",
        "## 时空复杂度\n",
        "两种常用算法都是一样的时空复杂度。 \n",
        "T: O(V + E); S: O(V + E);\n",
        "V: Vertex 数量， E: Edge 数量。"
      ]
    },
    {
      "cell_type": "markdown",
      "id": "04b3e33a-ec59-402b-af9e-c765d47b2825",
      "metadata": {
        "tags": []
      },
      "source": [
        "## BFS / Kahn's Algorithm 卡恩算法"
      ]
    },
    {
      "cell_type": "markdown",
      "id": "91051e03-8270-44a1-827c-88ebad8a7ce0",
      "metadata": {},
      "source": [
        "假设 Result 是存放结果的列表，那么先找到那些入度为0的节点，存放到Result 之中。这是因为这些节点没有任何的父节点。   \n",
        "第二步，去除和这些节点的相连的边，继续寻找更新之后入度为0的节点。以此继续，直到结束。   \n",
        "第三步，我们看Result中是否有全部的节点，如果没有的话，说明存在环，无法进行拓扑排序。   "
      ]
    },
    {
      "cell_type": "markdown",
      "id": "6fb9de8e-a829-49dc-9a34-873a2964f99b",
      "metadata": {
        "tags": []
      },
      "source": [
        "## DFS 算法"
      ]
    },
    {
      "cell_type": "markdown",
      "id": "794b9d78-5086-4696-a187-3f612e52f280",
      "metadata": {},
      "source": [
        "如果是一个DAG，"
      ]
    },
    {
      "cell_type": "markdown",
      "id": "ca99b911-855b-4ebe-8e44-ddabce69629e",
      "metadata": {},
      "source": [
        "* [329: Longest-Increasing-Path-in-a-Matrix](https://leetcode.com/problems/longest-increasing-path-in-a-matrix/) 真是一道特别特别好的题，不仅仅是用拓扑排序，所有的解法都应该好好看看"
      ]
    },
    {
      "cell_type": "markdown",
      "id": "d24131e2",
      "metadata": {},
      "source": [
        "这是DFS的解法，也是算法第四版上的解法。就是普通的找环。\n",
        "\n",
        "```java\n",
        "class Solution {\n",
        "    private boolean[] marked;\n",
        "    private boolean[] onStack;\n",
        "    private boolean hasCycle;\n",
        "    private ArrayList<Integer>[] graph;\n",
        "    \n",
        "    private Stack<Integer> reversePost;\n",
        "    private ArrayList<Integer> postList;\n",
        "    private LinkedList<Integer> reversePostList;\n",
        "    \n",
        "    public int[] findOrder(int numCourses, int[][] prerequisites) {\n",
        "        \n",
        "        this.marked = new boolean[numCourses];\n",
        "        this.onStack = new boolean[numCourses];\n",
        "        this.hasCycle = false;\n",
        "        this.graph = new ArrayList[numCourses];\n",
        "        \n",
        "        this.reversePost = new Stack<>();\n",
        "        this.postList = new ArrayList<>();\n",
        "        this.reversePostList = new LinkedList<>();\n",
        "        \n",
        "        for(int i = 0; i < numCourses; i++ ) {\n",
        "            graph[i] = new ArrayList<Integer>();\n",
        "        }\n",
        "        \n",
        "        for(int[] edge : prerequisites) {\n",
        "            graph[edge[1]].add(edge[0]);\n",
        "        }\n",
        "        \n",
        "        for(int i = 0; i < numCourses; i++ ) {\n",
        "            if(!marked[i]) {\n",
        "                dfs(i);\n",
        "            }\n",
        "        }\n",
        "        if(hasCycle) return new int[0];\n",
        "        \n",
        "        int[] ansRP = new int[numCourses];\n",
        "        int[] ansPList = new int[numCourses];\n",
        "        int[] ansRPList = new int[numCourses];\n",
        "        \n",
        "        for(int i = 0; i < numCourses; i++) {\n",
        "            ansRP[i] = reversePost.pop();\n",
        "            ansPList[i] = postList.get(numCourses - i - 1);\n",
        "            ansRPList[i] = reversePostList.get(i);\n",
        "        }\n",
        "        \n",
        "        return ansRPList;\n",
        "    }\n",
        "    \n",
        "    public void dfs(int vertex) {\n",
        "        marked[vertex] = true;\n",
        "        onStack[vertex] = true;\n",
        "        for(int neighbor : graph[vertex] ) {\n",
        "            if( hasCycle ) {\n",
        "                return;\n",
        "            }\n",
        "            \n",
        "            if(!marked[neighbor]) {\n",
        "                dfs(neighbor);\n",
        "            }else if( onStack[neighbor] ) {\n",
        "                hasCycle = true;\n",
        "                return;\n",
        "            }\n",
        "        }\n",
        "        onStack[vertex] = false;\n",
        "        \n",
        "        \n",
        "        reversePost.push(vertex);\n",
        "        postList.add(vertex);\n",
        "        reversePostList.addFirst(vertex);\n",
        "    }\n",
        "}\n",
        "```"
      ]
    },
    {
      "cell_type": "markdown",
      "id": "7596e551",
      "metadata": {},
      "source": []
    }
  ],
  "metadata": {
    "kernelspec": {
      "display_name": "Java",
      "language": "java",
      "name": "java"
    },
    "language_info": {
      "codemirror_mode": "java",
      "file_extension": ".jshell",
      "mimetype": "text/x-java-source",
      "name": "Java",
      "pygments_lexer": "java",
      "version": "17.0.1+12-LTS-39"
    }
  },
  "nbformat": 4,
  "nbformat_minor": 5
}
