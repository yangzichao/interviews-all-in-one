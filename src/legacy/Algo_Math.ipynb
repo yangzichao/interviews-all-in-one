{
 "cells": [
  {
   "cell_type": "markdown",
   "metadata": {
    "collapsed": true
   },
   "source": [
    "[链表中倒数第k个节点](https://leetcode-cn.com/problems/lian-biao-zhong-dao-shu-di-kge-jie-dian-lcof/)\n",
    "\n",
    "先获取链表长度，再做运算，这样的方法固然不错，但是如果要求只扫描一次就难了。\n",
    "\n",
    "```java\n",
    "class Solution {\n",
    "    public ListNode getKthFromEnd(ListNode head, int k) {\n",
    "        if( k < 1){\n",
    "            return null;\n",
    "        }\n",
    "        int size = 0;\n",
    "        ListNode p = head;\n",
    "        while( p != null ){\n",
    "            size += 1;\n",
    "            p = p.next;\n",
    "        }\n",
    "        if( size < k ){\n",
    "            return null;\n",
    "        }\n",
    "        int count = size - k;\n",
    "        p = head;\n",
    "        while( count > 0 ){\n",
    "            p = p.next;\n",
    "            count--;\n",
    "        }\n",
    "        return p;\n",
    "    }\n",
    "}\n",
    "```\n",
    "\n",
    "要求只扫描一次，就用如下的方法\n",
    "\n",
    "```java\n",
    "class Solution {\n",
    "    public ListNode getKthFromEnd(ListNode head, int k) {\n",
    "        if( k <  1 ){\n",
    "            return null;\n",
    "        }\n",
    "        ListNode dummyHead = new ListNode(-1);\n",
    "        dummyHead.next = head;\n",
    "        ListNode prev = dummyHead;\n",
    "        ListNode late = dummyHead;\n",
    "        int move = k;\n",
    "        while( move > 0 ){\n",
    "            if(late.next == null){\n",
    "                return null;\n",
    "            }\n",
    "            move--;\n",
    "            late = late.next;\n",
    "        }\n",
    "\n",
    "        while(late!=null){\n",
    "            prev = prev.next;\n",
    "            late = late.next;\n",
    "        }\n",
    "        return prev;\n",
    "    }\n",
    "}\n",
    "```"
   ]
  },
  {
   "cell_type": "code",
   "execution_count": null,
   "metadata": {
    "collapsed": true
   },
   "outputs": [],
   "source": []
  }
 ],
 "metadata": {
  "kernelspec": {
   "display_name": "Java",
   "language": "java",
   "name": "java"
  },
  "language_info": {
   "codemirror_mode": "java",
   "file_extension": ".jshell",
   "mimetype": "text/x-java-source",
   "name": "Java",
   "pygments_lexer": "java",
   "version": "12.0.1+12"
  }
 },
 "nbformat": 4,
 "nbformat_minor": 2
}
