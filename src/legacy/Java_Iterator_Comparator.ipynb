{
 "cells": [
  {
   "cell_type": "markdown",
   "metadata": {
    "collapsed": true
   },
   "source": [
    "# Java Comparator"
   ]
  },
  {
   "cell_type": "markdown",
   "metadata": {
    "collapsed": true
   },
   "source": [
    "1. 为什么重要？  \n",
    "   LeetCode 题目中经常需要你重载原来默认的 Comparator\n",
    "\n",
    "2. Comparator<T>是一个接口。  \n",
    "   Comparator<T> 是 java.util. 下的一个 interface.                 \n",
    "   \n",
    "3. 实现一个自己的 Comparator 类只需要实现一个函数。  \n",
    "   它只有两个 method,\n",
    "   一个是 int compare(T o1, T o2),\n",
    "   一个是 boolean equals(Boject obj);  \n",
    "   由于任何类都继承于 java.lang.Object, 在 Object.java 中就实现了 equals(Boject obj).  \n",
    "   **因此重写 Comparator 只需要重写 compare(T o1, T o2) method 就可以了。**\n",
    "\n",
    "4. 对于一个没有 implements comparator 的类，我们可以实现 Comparator 类来新建一个比较器。  \n",
    "   例 1 自 \b[LC1311](leetCode-1311-Get-Watched-Videos-by-Your-Friends.md)\n"
   ]
  },
  {
   "cell_type": "code",
   "execution_count": 19,
   "metadata": {},
   "outputs": [
    {
     "name": "stdout",
     "output_type": "stream",
     "text": [
      "666"
     ]
    }
   ],
   "source": [
    "String[] a = new String[50];\n",
    "a[0] = \"555\";\n",
    "a[2] = \"666\";\n",
    "System.out.print(a[2]);"
   ]
  },
  {
   "cell_type": "code",
   "execution_count": null,
   "metadata": {
    "collapsed": true
   },
   "outputs": [],
   "source": []
  }
 ],
 "metadata": {
  "kernelspec": {
   "display_name": "Java",
   "language": "java",
   "name": "java"
  },
  "language_info": {
   "codemirror_mode": "java",
   "file_extension": ".jshell",
   "mimetype": "text/x-java-source",
   "name": "Java",
   "pygments_lexer": "java",
   "version": "12.0.1+12"
  }
 },
 "nbformat": 4,
 "nbformat_minor": 2
}
