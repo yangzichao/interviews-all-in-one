{
 "cells": [
  {
   "cell_type": "markdown",
   "metadata": {},
   "source": [
    "## Design"
   ]
  },
  {
   "cell_type": "markdown",
   "metadata": {},
   "source": [
    "涉及 DoublyLinkedList\n",
    "* [146: LRU-Cache](https://leetcode.com/problems/lru-cache/)\n",
    "* [460: LFU-Cache](https://leetcode.com/problems/lfu-cache/)\n"
   ]
  },
  {
   "cell_type": "markdown",
   "metadata": {},
   "source": [
    "## 基础数据结构\n",
    "* [706: Design-HashMap](https://leetcode.com/problems/design-hashmap/)\n",
    "    实现是 ListNode[], 每次加入 dummyHead, 这样只需要实现一个 ListNode 的 find 方法。\n",
    "    find 返回的是 prevNode, 这样不论是 insert, delete, update 都很容易。\n",
    "\n",
    "* [208: Implement-Trie-(Prefix-Tree)](https://leetcode.com/problems/implement-trie-prefix-tree/)   \n",
    "    Trie 真的不错。主要是要把 TrieNode 写好。 尤其是 containsKey(), add"
   ]
  }
 ],
 "metadata": {
  "kernelspec": {
   "display_name": "Java",
   "language": "java",
   "name": "java"
  },
  "language_info": {
   "codemirror_mode": "java",
   "file_extension": ".jshell",
   "mimetype": "text/x-java-source",
   "name": "Java",
   "pygments_lexer": "java",
   "version": "17.0.1+12-LTS-39"
  }
 },
 "nbformat": 4,
 "nbformat_minor": 4
}
