{
 "cells": [
  {
   "cell_type": "code",
   "execution_count": 3,
   "metadata": {
    "tags": []
   },
   "outputs": [],
   "source": [
    "//helper methods of this notebook\n",
    "public static void printArray(int[] arr) { \n",
    "        int n = arr.length; \n",
    "        for (int i=0; i<n; ++i) \n",
    "            System.out.print(arr[i]+\" \"); \n",
    "        System.out.println(); \n",
    "}\n",
    "\n",
    "public static void swap(int[] arr, int i, int j){\n",
    "    int temp = arr[i];\n",
    "    arr[i] = arr[j];\n",
    "    arr[j] = temp;\n",
    "}"
   ]
  },
  {
   "cell_type": "markdown",
   "metadata": {
    "tags": []
   },
   "source": [
    "# Java Built-in Arrays.Sort()\n",
    "它对不同类型元素使用不同的排序算法。\n",
    "对于一个 object 使用 merge sort, 对于 primitive type 使用 quick sort. 现在已经被 improved 的算法改进了。     \n",
    "所以总的来说， Merge Sort  O(NlogN) 时间复杂度，O(N) 空间复杂度.    \n",
    "Quick Sort, On average O(NlogN) 时间复杂度，on average O(logN) 空间复杂度   \n",
    "worst case, O(N^2) 时间复杂度。  "
   ]
  },
  {
   "cell_type": "markdown",
   "metadata": {},
   "source": [
    "#  Merge Sort 最基础的排序算法\n",
    "之所以把它称为最基础的排序算法，是因为别的太基础的排序算法没有实战考察的意义。        \n",
    "Leetcode 023 是一个经典的题目。         \n",
    "[021: Merge-Two-Sorted-Lists](https://leetcode.com/problems/merge-two-sorted-lists/)\n",
    "[023: Merge-k-Sorted-Lists](https://leetcode.com/problems/merge-k-sorted-lists/)\n",
    "\n",
    "## Merge Sort 的 Time and Space Complexity\n",
    "For a problem of size N.    \n",
    "T: O(NlogN),    \n",
    "S: O(N).   "
   ]
  },
  {
   "cell_type": "markdown",
   "metadata": {
    "tags": []
   },
   "source": [
    "# O(N) Sort Methods\n",
    "可以证明，基于比较的排序最好也就达到 NlogN 的 时间复杂度。而常见的能达到线性时间复杂度的排序算法，\n",
    "就是 counting sort 计数排序， radix sort 基数排序 和 bucket sort 桶排序。      \n",
    "总的来说，他们的原理非常相似。\n",
    "还有就是一个"
   ]
  },
  {
   "cell_type": "markdown",
   "metadata": {
    "tags": []
   },
   "source": [
    "## Quick Sort 快速排序\n",
    "最重要的排序就是快速排序。\n",
    "\n",
    "### Time and Space Complexity\n",
    "注意快排一定要说 on average 和 worst case.     \n",
    "T: O(NlogN) on average, O(N^2) worst case;     \n",
    "S: O(logN) on average, O(N) worst case;     \n",
    "\n",
    "如何介绍这个快排。\n",
    "\n",
    "QuickSort is a Divide and Conquer algorithm. It picks an element as pivot and partitions the given array around the picked pivot.      \n",
    "The key process in quickSort is partition(). Target of partitions is, given an array and an element x of array as pivot, put x at its correct position in sorted array and put all smaller elements (smaller than x) before x, and put all greater elements (greater than x) after x. All this should be done in linear time.  \n",
    "\n",
    "不使用 random pick pivot 的快排，是 worst case O(N^2)的。比如排序一个已经有序的数组，使用\n",
    "下面的选high为pivot的算法，相当于就是O(N^2)。\n",
    "一般来说quick sort on average 是NlogN的.   On average 的空间复杂度是 O(logN)\n",
    "Best Case 的情况是 3-way 快排，在全是一样的数的情况下，刚好是O(N).     \n",
    "\n",
    "注意一个特殊的情况是 quick select, 以[215: Kth-Largest-Element-in-an-Array](https://leetcode.com/problems/kth-largest-element-in-an-array/)为例   \n",
    "它由于只要第 k 大的，如果我们在一次partition中直接找到它了，我们不用去排序剩余的数，直接返回那个数就好了。此时 best case O(N). 但是 on average 也是 O(N), 要想一想为什么。"
   ]
  },
  {
   "cell_type": "code",
   "execution_count": 70,
   "metadata": {},
   "outputs": [],
   "source": [
    "public int twoWayPartition(int arr[], int low, int high) {\n",
    "//     以 LeetCode 215 测试，使用随机 pivot 3ms, 使用high 是55ms. 当然\n",
    "//     随机pivot\n",
    "        Random rand = new Random();\n",
    "        int pivotIndex = low + rand.nextInt(high - low);\n",
    "\n",
    "        int pivotVal = arr[pivotIndex];\n",
    "        swap(arr, pivotIndex, high);\n",
    "        int left = low; \n",
    "    \n",
    "        for (int mid = low; mid <= high - 1; mid++) { \n",
    "            if (arr[mid] < pivotVal) { \n",
    "                swap(arr, left, mid);\n",
    "                left++; \n",
    "            } \n",
    "        } \n",
    "        swap(arr, left, high);\n",
    "    \n",
    "// // 简单的选用 high 作为pivot\n",
    "//         int pivotVal = arr[high];\n",
    "//         int left = low; \n",
    "//         for (int mid = low; mid < high; mid++) { \n",
    "//             if (arr[mid] < pivotVal) { \n",
    "//                 swap(arr, left, mid);\n",
    "//                 left++; \n",
    "//             } \n",
    "//         } \n",
    "//         swap(arr, left, high);\n",
    "    \n",
    "        return left; \n",
    "} \n",
    "\n",
    "public void twoWayQuickSort(int arr[], int low, int high) { \n",
    "        if(low >= high ){\n",
    "            return;\n",
    "        }\n",
    "        int pivotIndex = twoWayPartition(arr, low, high); \n",
    "        twoWayQuickSort(arr, low, pivotIndex - 1); \n",
    "        twoWayQuickSort(arr, pivotIndex + 1, high); \n",
    "} "
   ]
  },
  {
   "cell_type": "code",
   "execution_count": 71,
   "metadata": {},
   "outputs": [
    {
     "name": "stdout",
     "output_type": "stream",
     "text": [
      "0 5 4 3 2 1 -1 -2 -3 -4 -5 1010 2020 -999 \n",
      "-999 -5 -4 -3 -2 -1 0 1 2 3 4 5 1010 2020 \n"
     ]
    }
   ],
   "source": [
    "int[] testIntegerSort = new int[]{0,5,4,3,2,1,-1,-2,-3,-4,-5, 1010,2020, -999};\n",
    "printArray(testIntegerSort);\n",
    "twoWayQuickSort(testIntegerSort, 0, testIntegerSort.length - 1);\n",
    "printArray(testIntegerSort);"
   ]
  },
  {
   "cell_type": "markdown",
   "metadata": {},
   "source": [
    "### 快速排序相关题目\n",
    "* [905: Sort-Array-By-Parity](https://leetcode.com/problems/sort-array-by-parity/)"
   ]
  },
  {
   "cell_type": "markdown",
   "metadata": {},
   "source": [
    "## Bucket Sort 桶排序"
   ]
  },
  {
   "cell_type": "markdown",
   "metadata": {},
   "source": [
    "题目 164\n"
   ]
  }
 ],
 "metadata": {
  "kernelspec": {
   "display_name": "Java",
   "language": "java",
   "name": "java"
  },
  "language_info": {
   "codemirror_mode": "java",
   "file_extension": ".jshell",
   "mimetype": "text/x-java-source",
   "name": "Java",
   "pygments_lexer": "java",
   "version": "17.0.1+12-LTS-39"
  }
 },
 "nbformat": 4,
 "nbformat_minor": 4
}
