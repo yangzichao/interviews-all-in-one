{
 "cells": [
  {
   "cell_type": "markdown",
   "metadata": {},
   "source": [
    "分享在亚马逊面试candidate 的一些经验. 求大米。\n",
    "面试coding相关的题目时，一般面试官都有meet bar, raise bar的几个criteria. 所以虽然做出题目是好的， 但是还是不够的。 做题的思路是不是清晰， 可不可以延展到更多的case, 代码是不是clean/logical, 有没有考虑edge cases, 是不是brute force, 面试官的提示有没有pickup, 都是会被一个个check 的。 平时最好刻意练习一下。\n",
    "leadership principal queations， 就是尽量按STAR的模版多每个都准备几个例子。 另外说例子时不要只说we, 也不要只说我。 就是团队加个人贡献都涉及一些。 还有follow up经常会问一下你自己的一些retro思考， 就是if have chance, how would ‍‍‍‌‌‍‍‍‍‍‌‍‍‍‌‌‍‍‍you do it differently? 也可以加加分\n",
    "我试着从面试官的角度回答一下吧。 一般来说， 不管面试什么级别的candidate, 面试官一般就用一样的题目，不会为了不一样的level准备不一样的题目。这样想的话，面试官选择medium和difficult 的题目几率会大一些， 因为可以覆盖所有级别面试。当然TA一定也是对NG/L4,L5,L6有层层渐进的bar的。 难的题可能有好几种解法(brute force到最优化），或者思路可以不一样， 或者edge case很多。 不过code要写的clean, 易懂， 应该是基本的要求。"
   ]
  },
  {
   "cell_type": "markdown",
   "metadata": {},
   "source": [
    "895"
   ]
  },
  {
   "cell_type": "markdown",
   "metadata": {},
   "source": [
    "重复做了4遍70道经典算法数据结构题 blind-75-leetcode-questions\n",
    "把经典的7道ood都写一遍搞懂\n",
    "准备12个充满细节的故事\n",
    "找7个朋友mock\n"
   ]
  },
  {
   "cell_type": "markdown",
   "metadata": {},
   "source": [
    "# SDE 2 OA \n",
    "两道都是地里最近的高频题\n",
    "1. 刷题网 Make Array Zero by Subtracting Equal Amounts\n",
    "2. 常见的巫师题\n",
    "上周日做的OA，这周一早上一大早就收到HR的email说过了， 但是下一轮是电面，不是VO， 问了一下问什么还需要电面， HR 说有时根据OA result 会需要有电面，LOL, 感觉所有的test case都过了， system design 和 work survey也应该没有什么问题。 不清楚是不是最近bar变高了，大家有遇到相同的情况‍‍‍‌‌‍‍‍‍‍‌‍‍‍‌‌‍‍‍吗？\n",
    "顺便问下，有最近面SDE2的，想组队mock吗？"
   ]
  },
  {
   "cell_type": "markdown",
   "metadata": {},
   "source": [
    "# 社招 OA \n",
    "第一题是wifi router range那个，有几个test cases超时，无法通过。 第二题是AIR PLANE travel，\n",
    "bar raiser\n",
    "227\n",
    "第一题 airplane travel\n",
    "第二题 find the top k subset with the highest sum"
   ]
  },
  {
   "cell_type": "markdown",
   "metadata": {},
   "source": [
    "Web Developer Engineer\n",
    "1. How to speed up the loading of a webpage?\n",
    "2. From broader to narrower, ranking the following html selector: Class, Elem‍‍‍‌‌‍‍‍‍‍‌‍‍‍‌‌‍‍‍ent, Inline Styles, and ID\n",
    "3. What's ajax?"
   ]
  },
  {
   "cell_type": "markdown",
   "metadata": {},
   "source": [
    "4. 为project写bullets的时候，可以加一些非技术细节的东西，用简洁的语言单独列，比如：.google  и\n",
    "你做过的documentation work\n",
    "一些帮助他人的事，比如教组员/课程队友什么，可以写“give a tutorial talk“\n",
    "最好用一些比较直观的数字体现你的能力，比如我的实习经历写“finish all milestones ahead of 2 weeks”"
   ]
  },
  {
   "cell_type": "markdown",
   "metadata": {},
   "source": [
    "# L4 Coding\n",
    "## Easy \n",
    "[387: First-Unique-Character-in-a-String](https://leetcode.com/problems/first-unique-character-in-a-string/)\n",
    "\n",
    "\n",
    "## Medium\n",
    "\n",
    "96\n",
    "380 throw exception／raise error替代return None\n",
    "207\n",
    "146\n",
    "387？\n",
    "472\n",
    " LRU\n",
    " coding题不难，一题是在arr里找出唯一一个出现三个的数字，其他都是出现两次。follow up的解法用bit做。还有一题就是course schedule的II还是III，反正是那一类题。\n",
    "34 follow up如何进一步避免重复代码（break into helper method，传一个operator进去）\n",
    "503\n",
    "1112\n",
    "1152 follow up dfs\n",
    "937\n",
    "239\n",
    "course schedule 2\n",
    "number of island， 阿三全程黑脸，follow up是shape of the island。 \n",
    "InOrder tree traversal to calculate the sum of the tree node.\n",
    "OOD版course schedule\n",
    "valid sukodu\n",
    "consistent hashing"
   ]
  },
  {
   "cell_type": "markdown",
   "metadata": {},
   "source": [
    "# L5 Coding\n",
    " coding实现org chart，三哥面试国人小哥shadow，面试官全程黑脸。要求能添加员工，离职员工，换老板，返回某个老板底下的全部员工，返回某个老板底下的全部org。题很简单但是要求很模糊要自己一点一点确认。一些前面我们确认好的事情后来他又反悔了（e.g. 除了名字还要记录org name，换老板不知道新老板只知道新org, 新加老板可能没有员工，CEO也可能离职）。 卡着点匆忙写完了，一开始太早开始写了，应该起手先写helper class的。因为一直被加需求（e.g. 只返回manager，只返回某个org的员工），最后每个function都一堆default argument很丑。\n",
    " \n",
    " coding实现pub/sub manager，国人小姐姐面试三哥shadow。小姐姐上来就很和善地问我需不需要喝水上厕所，会尽量提前结束面试，BQ全程努力给我深挖找点。题目一出来我就懵圈了，毫无头绪。就我日常都会用pub/sub，但从来没想过实现。具体就是实现一个PubSubManager， 要支持两个功能，subscribe(id, func), 把对应func存进id里，publish(id, data), 把id里存着的func拿出来挨个跑func1(data), func2(data)。 硬着头皮胡写一通，小姐姐一直提醒我这个没必要那里有bug，说实话我自己都不知道自己在写点什么东西，满脑子“挂了挂了”。中间我讲到我们用long type 存id（因为我平时写java），shadow的三哥还挑我刺说python没有long，把我整更紧张了。最后让我说了怎么多线程优化\n",
    " \n",
    " codingmeeting room2，BR Sr. SDM三姐， 非常有气质全程轻声细语poker face，我完全不知道自己答得好不好。以为是纯BQ，结果只剩20分钟的时候她说我们来做道题，格式很乱，说是int[] 但是例子输入是set。没时间表演了上来就2 pointer 最优解（因为input是分开的两个array，heapq‍‍‍‌‌‍‍‍‍‍‌‍‍‍‌‌‍‍‍还要zip）秒了，但她一定说我有bug。我给她dry run了几个例子她不信，给了我个例子非说我错。经过第三轮我此时脑子是懵的被她带跑了，就照她的暗示改了。面完lc上跑了下我一开始的写法明明是对的，之后被她引导改的是错的。"
   ]
  },
  {
   "cell_type": "markdown",
   "metadata": {},
   "source": [
    "# L4 System Design\n",
    "system design考了建dog facility系统，还有一轮是tic tac toe。本来问的是扑克牌的design，后来我说不知道里面的具体规则，所以换了tic tac toe。"
   ]
  },
  {
   "cell_type": "markdown",
   "metadata": {},
   "source": [
    "# L5 System Design\n",
    "第一轮: SD轮，黑哥哥SDM是全场我最喜欢的面试官，全程积极反馈，最后还说you did well。 设计亚马逊的商品评价系统。5000 read QPS不考虑peak，评论的人需要登陆，看不需要，重点聊了数据库存储，schema设计, SQL/NoSQL选择，哪些表是同一个service，最后让不画图口述scaling。中间我的comment table忘加content和rating这两个最重要的column了，面试官当场提醒了我，最后复盘的时候跟我说如果L6犯这种错他是会扣分的。"
   ]
  },
  {
   "cell_type": "markdown",
   "metadata": {},
   "source": [
    "# OOD \n",
    "然后是OOD 设计会议室book meeting的问题，由于BQ实在强度太大，开始coding的时候前几分钟有一些懵，来回讨论完需求后开始写，\n",
    "ood 设计dressing room，挺简单的，可以定义两个hashmap来记录empty rooms和occupied rooms, 实现allocate和deallocate两个methods，follow up问如果有不同的dressing room怎么办‍‍‍‌‌‍‍‍‍‍‌‍‍‍‌‌‍‍‍，abstract class， inherentance，为了可读性我也提到了enum\n",
    "Linux file find ood\n",
    "ood linux search 可以实现面官举例的功能：找到比5mb大的文件。follow up要exensible，maitainable，如何做到找小于／小于等于／等于／大于等于给定mb的文件呢？传进去一个operator。\n",
    "\n",
    "题目: Amazon Locker \n",
    "Follow up: 如果需要添加Admin登录功能\n",
    "Round3:\n",
    "amazon locker\n",
    "\n",
    "printer 和 material要生成report，我刚把题看完就让我写class，然后我刚写完第一个class让我实现方法，我根本没时间想太多他又开始跟我计较实现细节，比如一个Printer有多种Material ，你怎么实现这个关系\n",
    "\n",
    "Design 2 players chess game. validate the queen movement.\n",
    "\n",
    "OOD设计bookstore。--  熟悉自己要用的语言对OOD有哪些支持（比如我准备用JAVA回答，就好好地用学习/复习了一下什么abstract class, inheritance, encapsulation...之类的）\n",
    "--  交流很重要，可以在utube上找一个ood面试的范例，看看人家是怎么沟通的。我自己觉得最重要的是：\n",
    "---   捋清楚ood是要干嘛。比如人家让你设计bookstore，起码要先理解一下这个bookstore该干嘛，或者summarize一下题设里要求这个bookstore要做到的事情。写下来，以此作为设计类、方法的baseline。\n",
    "---   设计类，从最核心的或者说最小的开始设计起，由它和其他类的interaction发散出其他类的设计思路。\n",
    "---   **注意沟通**！拿不准的，可以先问一下。比如像书本的ISBN这个一般是必要的，但是印刷纸张种类这种信息倒不一定需要存储。"
   ]
  },
  {
   "cell_type": "markdown",
   "metadata": {},
   "source": [
    "# BQ\n",
    "我记得在VO前的interview pre call里，recruiter还专门提到每个故事只能说一次\n",
    "\n",
    "BQ Negative feedback, underperformed teammate block your work, tight ddl。\n",
    "BQ Improved product at development time that customer didn't think of and turned out well. Handle conflict between company revenue and customer experience. Innovative project.\n",
    "BQ Disagreement with teammate. Did something beyond your responsibility.\n",
    "BQ learned something new. A project that you are proud of.\n",
    "1.most challenging project\n",
    "2. disagree with your manager\n",
    "BQ: Out of responsibility; Tight ddl\n",
    "\n",
    " biggest obstacle, help peer\n",
    " incomplete information"
   ]
  }
 ],
 "metadata": {
  "kernelspec": {
   "display_name": "Java",
   "language": "java",
   "name": "java"
  },
  "language_info": {
   "codemirror_mode": "java",
   "file_extension": ".jshell",
   "mimetype": "text/x-java-source",
   "name": "Java",
   "pygments_lexer": "java",
   "version": "17.0.1+12-LTS-39"
  }
 },
 "nbformat": 4,
 "nbformat_minor": 4
}
